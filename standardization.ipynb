{
 "cells": [
  {
   "cell_type": "markdown",
   "metadata": {},
   "source": [
    "## Python 编程规范"
   ]
  },
  {
   "cell_type": "markdown",
   "metadata": {},
   "source": [
    "### 1. 缩进"
   ]
  },
  {
   "cell_type": "markdown",
   "metadata": {},
   "source": [
    "####   用4个空格缩进代码。对于换行的情况：垂直对齐换行元素，或者使用4个空格缩进（此时第一行不应有参数）"
   ]
  },
  {
   "cell_type": "code",
   "execution_count": null,
   "metadata": {
    "collapsed": false
   },
   "outputs": [],
   "source": [
    "#与起始变量对其\n",
    "foo = long_function_name(var_one, var_two,\n",
    "                         var_three, var_four)\n",
    "\n",
    "#字典中与起始值对齐\n",
    "foo = {\n",
    "    long_dictionary_key: value1 + \n",
    "                         value2,\n",
    "    ...\n",
    "}\n",
    "\n",
    "#用4个空格缩进\n",
    "foo = long_function_name(\n",
    "    var_one, var_two, var_three,\n",
    "    var_four\n",
    ")\n",
    "\n",
    "#字典中用4个空格缩进\n",
    "foo = {\n",
    "    long_dictionary_key:\n",
    "        long_dictionary_value,\n",
    "    ...\n",
    "}"
   ]
  },
  {
   "cell_type": "markdown",
   "metadata": {},
   "source": [
    "注：注意缩进，且缩进时不要使用Tab"
   ]
  },
  {
   "cell_type": "markdown",
   "metadata": {},
   "source": [
    "### 2.空格"
   ]
  },
  {
   "cell_type": "markdown",
   "metadata": {},
   "source": [
    "#### ✔ 在逗号，分号，冒号的后面加一个空格（行尾时除外），但不需要在前面加；\n",
    "#### ✔ 参数列表，索引或切片的左括号前不应该加空格\n",
    "#### ✔ 赋值、比较、布尔等二元操作符两边都加空格。（=、==、<、>、!=、<>、<=、>=、in、not in、is、is not）\n",
    "#### ✔ 算术操作符两边的空格的使用自行判断，但需保证两边一致\n",
    "#### ✔ 当’=’用于指示关键字参数或默认参数值时, 不要在其两侧使用空格（参数列表中）\n",
    "#### ✔ 不要用空格来垂直对齐多行间的标记, 因为这会成为维护的负担(适用于:, #, =等)\n",
    "#### ✔按照标准的排版规范来使用标点两边的空格，括号内不要有空格，按照标准的排版规范来使用标点两边的空格\n",
    "#### ✔ 函数的参数列表中，逗号之后要有空格"
   ]
  },
  {
   "cell_type": "code",
   "execution_count": null,
   "metadata": {
    "collapsed": true
   },
   "outputs": [],
   "source": [
    "#逗号、分号、冒号前不应有空格，后面加（除了行尾）\n",
    "if x == 4:  #Yes\n",
    "    print x, y\n",
    "x, y = y, x\n",
    "\n",
    "if x == 4 :  #No\n",
    "    print x , y\n",
    "x , y = y , x\n",
    "\n",
    "#参数列表、索引、切片的左括号前不加空格\n",
    "spam(1)  #Yes\n",
    "dict['key'] = list[index]  #Yes\n",
    "\n",
    "spam (1)  #No\n",
    "dict ['key'] = list [index]  #No\n",
    "\n",
    "#二值运算符两侧加空格\n",
    "x = 1  #Yes\n",
    "x=1 #No\n",
    "\n",
    "#参数列表中的赋值符号两侧不需要加空格\n",
    "estimator = RandomForestRegressor(random_state=0, n_estimators=100, n_jobs=-1)  #Yes\n",
    "estimator = RandomForestRegressor(random_state = 0, n_estimators = 100, n_jobs = -1)  #No\n",
    "\n",
    "#不要用空格来对齐多行间的标记\n",
    "#Yes\n",
    "foo = 1000  #note\n",
    "long_name = 2  #note2\n",
    "dictionary = {\n",
    "    \"foo\": 1,\n",
    "    \"long_name\": 2\n",
    "}\n",
    "\n",
    "#No\n",
    "foo       = 1000  #note\n",
    "long_name = 2     #note2\n",
    "dictionary = {\n",
    "    \"foo\":       1,\n",
    "    \"long_name\": 2\n",
    "} \n",
    "\n",
    "#括号内不应有空格\n",
    "spam(ham[1], {eggs:2}, [])#Yes\n",
    " spam ( ham[1], {eggs:2}, [] )#No"
   ]
  },
  {
   "cell_type": "markdown",
   "metadata": {},
   "source": [
    "### 3. 注释"
   ]
  },
  {
   "cell_type": "markdown",
   "metadata": {},
   "source": [
    "#### ✔使用文档字符串进行注释：包、模块、类、函数 \n",
    "#### ✔函数和方法的注释：Args，Returns，Raises\n",
    "    1. 每节以一个标题行开始，标题行以冒号结尾，节的其他内容被缩进两个空格\n",
    "    2. 列出每个参数的名字，并在名字后使用一个冒号和一个空格，对其进行描述，换  行时用两个空格进行缩进。\n",
    "    3.  参数的描述应包含所需类型和含义。如果一个函数接受*foo(可变长度参数列表)或者**bar (任意关键字参数), 应该详细列出*foo和**bar. \n",
    "    4.  Returns（生成器时是Yields）：描述返回值的类型和语义，如果函数返回None，可以省略。\n",
    "    5.  Raises：列出与接口有关的所有异常\n",
    "#### ✔ 对类的注释：定义下应有一个描述该类的文档字符串，如果类有公共属性（Attributes），文档中应包含一个属性（Attributes）段。格式和函数参数格式相同。\n",
    "#### ✔ 块注释和行注释\n",
    "    1.  对于复杂操作，应该在其操作开始前写上若干行注释\n",
    "    2.  单行注释，注释应离开代码至少两个空格。"
   ]
  },
  {
   "cell_type": "markdown",
   "metadata": {},
   "source": [
    "### 3.1 文档字符串"
   ]
  },
  {
   "cell_type": "markdown",
   "metadata": {},
   "source": [
    "##### 注释会被忽略，文档字符串（doctoring）可以被调用，不影响程序的执行\n",
    "    1.一对三重双引号表示文档字符串，第一个双引号紧接后面的内容不换行，结尾的双引号单独占行\n",
    "    2.第一行简要说明类或函数的功能\n",
    "    3.第二行空行，第三行开始详细描述功能\n",
    "    4.Args、Returns等每个模块之间空一行\n",
    "#### ❗不要在文档注释中赋值函数定义原型，而是要描述其具体内容"
   ]
  },
  {
   "cell_type": "code",
   "execution_count": 18,
   "metadata": {
    "collapsed": false
   },
   "outputs": [],
   "source": [
    "def printMax(x, y):\n",
    "\n",
    "    \"\"\"Prints the maximum of two numbers.  \n",
    "    The two values must be integers.  \n",
    "    \n",
    "    \"\"\"\n",
    "\n",
    "    x = int(x) # convert to integers, if possible\n",
    "\n",
    "    y = int(y)\n",
    "\n",
    "    if x > y:\n",
    "\n",
    "        print (\"x\")\n",
    "\n",
    "    else:\n",
    "        print ('y')"
   ]
  },
  {
   "cell_type": "markdown",
   "metadata": {},
   "source": [
    "通过help函数查看文档字符串"
   ]
  },
  {
   "cell_type": "code",
   "execution_count": 19,
   "metadata": {
    "collapsed": false
   },
   "outputs": [
    {
     "name": "stdout",
     "output_type": "stream",
     "text": [
      "Help on function printMax in module __main__:\n",
      "\n",
      "printMax(x, y)\n",
      "    Prints the maximum of two numbers.  \n",
      "    The two values must be integers.\n",
      "\n"
     ]
    }
   ],
   "source": [
    "help(printMax)"
   ]
  },
  {
   "cell_type": "markdown",
   "metadata": {},
   "source": [
    "通过函数的__doc__属性查看文档字符串"
   ]
  },
  {
   "cell_type": "code",
   "execution_count": 20,
   "metadata": {
    "collapsed": false
   },
   "outputs": [
    {
     "data": {
      "text/plain": [
       "'Prints the maximum of two numbers.  \\n    The two values must be integers.  \\n    \\n    '"
      ]
     },
     "execution_count": 20,
     "metadata": {},
     "output_type": "execute_result"
    }
   ],
   "source": [
    "printMax.__doc__"
   ]
  },
  {
   "cell_type": "markdown",
   "metadata": {},
   "source": [
    "### 3.2函数注释示例"
   ]
  },
  {
   "cell_type": "code",
   "execution_count": null,
   "metadata": {
    "collapsed": true
   },
   "outputs": [],
   "source": [
    "def fetch_bigtable_rows(big_table, keys, other_silly_variable=None):\n",
    "    \"\"\"\n",
    "    Fetches rows from a Bigtable.\n",
    "\n",
    "    Retrieves rows pertaining to the given keys from the Table instance\n",
    "    represented by big_table.  Silly things may happen if\n",
    "    other_silly_variable is not None.\n",
    "\n",
    "    Args:\n",
    "        big_table: An open Bigtable Table instance.\n",
    "        keys: A sequence of strings representing the key of each table row\n",
    "            to fetch.\n",
    "        other_silly_variable: Another optional variable, that has a much\n",
    "            longer name than the other args, and which does nothing.\n",
    "\n",
    "    Returns:\n",
    "        A dict mapping keys to the corresponding table row data\n",
    "        fetched. Each row is represented as a tuple of strings. For\n",
    "        example:\n",
    "\n",
    "        {'Serak': ('Rigel VII', 'Preparer'),\n",
    "         'Zim': ('Irk', 'Invader'),\n",
    "         'Lrrr': ('Omicron Persei 8', 'Emperor')}\n",
    "\n",
    "        If a key from the keys argument is missing from the dictionary,\n",
    "        then that row was not found in the table.\n",
    "\n",
    "    Raises:\n",
    "        IOError: An error occurred accessing the bigtable.Table object.\n",
    "    \"\"\"\n",
    "    pass"
   ]
  },
  {
   "cell_type": "markdown",
   "metadata": {},
   "source": [
    "### 3.3 类注释示例"
   ]
  },
  {
   "cell_type": "markdown",
   "metadata": {},
   "source": [
    "对于类的方法的描述，文档字符串可只占一行"
   ]
  },
  {
   "cell_type": "code",
   "execution_count": null,
   "metadata": {
    "collapsed": true
   },
   "outputs": [],
   "source": [
    "class SampleClass(object):\n",
    "    \"\"\"\n",
    "    Summary of class here.\n",
    "\n",
    "    Longer class information....\n",
    "    Longer class information....\n",
    "\n",
    "    Attributes:\n",
    "        likes_spam: A boolean indicating if we like SPAM or not.\n",
    "        eggs: An integer count of the eggs we have laid.\n",
    "    \"\"\"\n",
    "\n",
    "    def __init__(self, likes_spam=False):\n",
    "        \"\"\"Inits SampleClass with blah.\"\"\"\n",
    "        self.likes_spam = likes_spam\n",
    "        self.eggs = 0\n",
    "\n",
    "    def public_method(self):\n",
    "        \"\"\"Performs operation blah.\"\"\""
   ]
  },
  {
   "cell_type": "markdown",
   "metadata": {},
   "source": [
    "### 3.3 块注释和行注释示例"
   ]
  },
  {
   "cell_type": "code",
   "execution_count": null,
   "metadata": {
    "collapsed": true
   },
   "outputs": [],
   "source": [
    "# We use a weighted dictionary search to find out where i is in\n",
    "# the array.  We extrapolate position based on the largest num\n",
    "# in the array and the array size and then do binary search to\n",
    "# get the exact number.\n",
    "\n",
    "if i & (i-1) == 0:        # true if i is a power of 2"
   ]
  },
  {
   "cell_type": "markdown",
   "metadata": {},
   "source": [
    "### 4.导入格式"
   ]
  },
  {
   "cell_type": "markdown",
   "metadata": {},
   "source": [
    "#### ✔ 通用库在文件开始处导入，特定库在模块内部进行导入\n",
    "#### ✔ 每个导入单独占一行\n",
    "#### ✔ 导入位于文件顶部，位于模块注释和文档字符串之后，全局变量和常量之前\n",
    "#### ✔ 导入顺序：标准库——第三方库——应用程序指定的库，每组之间用一个空行分隔"
   ]
  },
  {
   "cell_type": "code",
   "execution_count": null,
   "metadata": {
    "collapsed": true
   },
   "outputs": [],
   "source": [
    "import foo\n",
    "from foo import bar\n",
    "from foo.bar import baz\n",
    "from foo.bar import Quux\n",
    "from Foob import ar\n",
    "import os, sys  # 不可以一行导入多个库"
   ]
  },
  {
   "cell_type": "markdown",
   "metadata": {},
   "source": [
    "### 5. 命名"
   ]
  },
  {
   "cell_type": "markdown",
   "metadata": {},
   "source": [
    "#### ✔ 应该避免的名称\n",
    "    1.单字符名称，除了计数器和迭代器  \n",
    "    2.包或模块名中的连字符（-）  \n",
    "    3.双下划线开头并结尾的名称（Python保留）\n",
    "####  ✔ 命名约定\n",
    "   1.单下划线（_）开头表示模块变量或函数是**protected** 的（使用import * from时不会被包含）  \n",
    "   2.用双下划线开头的实例变量或方法是 **类内私有**  \n",
    "   3.将相关的类和顶级函数放在同一个模块里  \n",
    "   4.Python之父Guido推荐的命名规范  \n",
    "   \n",
    " \n",
    "![Python之父Guido推荐的命名规范](named.png)"
   ]
  },
  {
   "cell_type": "markdown",
   "metadata": {},
   "source": [
    "### 6.分号"
   ]
  },
  {
   "cell_type": "markdown",
   "metadata": {},
   "source": [
    "#### ✔ 不要在行尾加分号，也不要用分号将两条命令放在同一行"
   ]
  },
  {
   "cell_type": "markdown",
   "metadata": {},
   "source": [
    "### 7. 行长度"
   ]
  },
  {
   "cell_type": "markdown",
   "metadata": {},
   "source": [
    "#### ✔ 每行不超过80个字符（IDE标线）\n",
    "#### ✔ 换行不需要使用反斜杠连接。Python会将圆括号, 中括号和花括号中的行隐式的连接起来。\n",
    "#### ✔ 如果一个文本字符串在一行放不下, 可以使用圆括号来实现隐式行连接\n",
    "#### ✔在注释中，如果必要，将长的URL放在一行上\n",
    "#### ✔使用反斜杠\\换行，二元运算符+等应出现在行末，长字符串也可以用此方法换行"
   ]
  },
  {
   "cell_type": "code",
   "execution_count": null,
   "metadata": {
    "collapsed": true
   },
   "outputs": [],
   "source": [
    "#反斜杠换行\n",
    "session.query(MyTable).\\\n",
    "        filter_by(id=1).\\\n",
    "        one()\n",
    "print 'Hello, '\\\n",
    "      '%s %s!' %\\\n",
    "    ('Harry', 'Potter')"
   ]
  },
  {
   "cell_type": "markdown",
   "metadata": {},
   "source": [
    "### 8. 括号"
   ]
  },
  {
   "cell_type": "markdown",
   "metadata": {},
   "source": [
    "#### ✔ 宁缺毋滥的使用括号，除非是用于实现行连接, 否则不要在返回语句或条件语句中使用括号. 不过在元组两边使用括号是可以的"
   ]
  },
  {
   "cell_type": "code",
   "execution_count": null,
   "metadata": {
    "collapsed": true
   },
   "outputs": [],
   "source": [
    "#Yes\n",
    "if foo:\n",
    "    bar()\n",
    "while x:\n",
    "    x = bar()\n",
    "if x and y:\n",
    "    bar()\n",
    "if not x:\n",
    "    bar()\n",
    "return foo\n",
    "\n",
    "for (x,y) in dict.items():\n",
    "\n",
    "#No\n",
    "if(x):\n",
    "    bar()\n",
    "if not(x):\n",
    "    bar()\n",
    "return (foo)"
   ]
  },
  {
   "cell_type": "markdown",
   "metadata": {},
   "source": [
    "### 9. 空行"
   ]
  },
  {
   "cell_type": "markdown",
   "metadata": {},
   "source": [
    "#### ✔ 顶级定义之间空2行：函数或者类定义\n",
    "#### ✔ 方法定义之间空1行：方法定义, 类定义与第一个方法之间\n",
    "#### ✔ 函数或方法中, 在必要的地方可以加一个空行"
   ]
  },
  {
   "cell_type": "markdown",
   "metadata": {},
   "source": [
    "### 10. 类"
   ]
  },
  {
   "cell_type": "markdown",
   "metadata": {},
   "source": [
    "#### ✔ 如果一个类不继承自其他的类，就显式的从ohject继承，嵌套也是。\n",
    "继承自object是为了使其属性正常工作，并且可以保护代码，使其不受Python潜在的不兼容性的影响。"
   ]
  },
  {
   "cell_type": "markdown",
   "metadata": {},
   "source": [
    "### 11. 字符串"
   ]
  },
  {
   "cell_type": "markdown",
   "metadata": {},
   "source": [
    "#### ✔ 避免在循环中用+和+=操作符来字符串拼接. \n",
    "1.由于字符串是不可变的, 这样做会创建不必要的临时对象, 并且导致二次方而不是线性的运行时间  \n",
    "2.作为替代方案, 可以将每个子串加入列表, 然后在循环结束后用 ” .join(列表对象，连接符号) 连接列表 。\n",
    "####  ✔ 同一文件中，保持使用字符串的一致性（单引号或双引号），在字符串内部可以使用另外一种引号。\n",
    "####  ✔为多行字符串使用三重双引号，而不是三重单引号。\n",
    "1.当且仅当项目中使用单引号来引用字符串时，才可能出现使用三重单引号为非文档字符串的多行字符串来标识引用；    \n",
    "2.文档字符串必须使用三重双引号；  \n",
    "3.通常用隐式行连接更清晰，因为多行字符串与程序其他部分的缩进方式不一致。"
   ]
  },
  {
   "cell_type": "code",
   "execution_count": null,
   "metadata": {
    "collapsed": true
   },
   "outputs": [],
   "source": [
    "#前后文引号要一致，字符串内部可以用另一种引号\n",
    "#Yes\n",
    "Python('Why are you hiding your eyes?')\n",
    "Gollum(\"I'm scared of lint errors.\")\n",
    "Narrator('\"Good!\" thought a happy Python reviewer.')\n",
    "\n",
    "#No\n",
    "Python(\"Why are you hiding your eyes?\")\n",
    "Gollum('The lint. It burns. It burns us.')\n",
    "Gollum(\"Always the great lint. Watching. Watching.\")\n",
    "\n",
    "#Yes\n",
    "print (\"This is much nicer.\\n\"\n",
    "       \"Do it this way.\\n\")\n",
    "\n",
    "#No，因为和docstring混了吗？？\n",
    "print \"\"\"This is pretty ugly.\n",
    "  Don't do this.\n",
    "  \"\"\"\n"
   ]
  },
  {
   "cell_type": "markdown",
   "metadata": {},
   "source": [
    "#### ❗注意：\n",
    "####  1.尽量在引用字符串时都用双引号，字符串内部再用单引号！\n",
    "####  2.机器标识使用单引号：如dict中的key"
   ]
  },
  {
   "cell_type": "markdown",
   "metadata": {},
   "source": [
    "### 12.语句"
   ]
  },
  {
   "cell_type": "markdown",
   "metadata": {},
   "source": [
    "#### ✔ 通常每个语句应该单独占一行。\n",
    "    1.如果测试结果与测试语句在一行放得下，可以放在同一行；\n",
    "    2.对于if语句，在没有else时才可以这样做；\n",
    "    3. try/except语句不能放在同一行"
   ]
  },
  {
   "cell_type": "code",
   "execution_count": null,
   "metadata": {
    "collapsed": true
   },
   "outputs": [],
   "source": [
    "#Yes\n",
    "if foo: bar(foo)\n",
    "    \n",
    "#No\n",
    "if foo: bar(foo)\n",
    "    else:baz(foo)\n",
    "\n",
    "try:    bar(foo)\n",
    "  except ValueError: baz(foo)\n",
    "\n",
    "  try:\n",
    "      bar(foo)\n",
    "  except ValueError: baz(foo)\n",
    "        "
   ]
  },
  {
   "cell_type": "markdown",
   "metadata": {},
   "source": [
    "### 13. 其他建议"
   ]
  },
  {
   "cell_type": "markdown",
   "metadata": {},
   "source": [
    "#### 🔹文件和sockets结束时，需要显式的关闭。\n",
    "#### 🔹为临时代码使用TODO注释\n",
    " TODO注释表示待完成事项，其格式规范为：  \n",
    " 1.在TODO注释的开头处包含\"TODO\"字符串；  \n",
    " 2.紧接着TODO的是括号括起来的名字、email地址或其他标识符；  \n",
    " 3.之后是可选的冒号，然后必须有一行注释，解释要做什么\n",
    " ❗PyCharm中使用**Alt+6**来调出项目中的全部TODO注释。\n",
    "#### 🔹主功能应该放在一个main()函数中.\n",
    "1.文件应该是可导入的. 简单的导入不应该导致这个脚本的主功能(main functionality)被执行, 这是一种副作用.   \n",
    "2.在Python中, pydoc以及单元测试要求模块必须是可导入的. 你的代码应该在执行主程序前总是检查 if name == ‘main’ , 这样当模块被导入时主程序就不会被执行.\n",
    "#### 🔹无特殊情况，一律使用UTF-8编码\n",
    "文件头部加入：#-*-coding:utf-8-*-标识\n",
    "#### 🔹避免在尾部添加空格。"
   ]
  },
  {
   "cell_type": "code",
   "execution_count": null,
   "metadata": {
    "collapsed": true
   },
   "outputs": [],
   "source": [
    "#TODO注释示例\n",
    "# TODO(kl@gmail.com): Use a \"*\" here for string repetition.\n",
    "# TODO(Zeke) Change this to use relations.\n",
    "\n",
    "#主函数示例\n",
    "def main():\n",
    "      ...\n",
    "if __name__ == '__main__':\n",
    "    main()"
   ]
  }
 ],
 "metadata": {
  "kernelspec": {
   "display_name": "Python 3",
   "language": "python",
   "name": "python3"
  },
  "language_info": {
   "codemirror_mode": {
    "name": "ipython",
    "version": 3
   },
   "file_extension": ".py",
   "mimetype": "text/x-python",
   "name": "python",
   "nbconvert_exporter": "python",
   "pygments_lexer": "ipython3",
   "version": "3.6.7"
  }
 },
 "nbformat": 4,
 "nbformat_minor": 2
}
