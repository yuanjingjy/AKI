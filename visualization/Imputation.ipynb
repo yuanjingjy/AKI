{
 "cells": [
  {
   "cell_type": "markdown",
   "metadata": {},
   "source": [
    "## 特征值插值"
   ]
  },
  {
   "cell_type": "code",
   "execution_count": 40,
   "metadata": {
    "collapsed": true
   },
   "outputs": [],
   "source": [
    "import pandas as pd \n",
    "import numpy as np \n",
    "import seaborn as sn\n",
    "import matplotlib.pyplot as plt\n",
    "import pdvega\n",
    "import warnings\n",
    "warnings.filterwarnings('ignore')"
   ]
  },
  {
   "cell_type": "markdown",
   "metadata": {},
   "source": [
    "## 导入数据，处理年龄、哑变量"
   ]
  },
  {
   "cell_type": "code",
   "execution_count": 46,
   "metadata": {
    "collapsed": false
   },
   "outputs": [
    {
     "data": {
      "text/plain": [
       "Index(['sex_F', 'sex_M', 'type_ELECTIVE', 'type_EMERGENCY', 'type_URGENT',\n",
       "       'creat', 'classlabel', 'hr_max', 'hr_min', 'hr_avg', 'hr_std', 'hr_mid',\n",
       "       'hr_25', 'hr_75', 'rr_max', 'rr_min', 'rr_avg', 'rr_std', 'rr_mid',\n",
       "       'rr_25', 'rr_75', 'sbp_max', 'sbp_min', 'sbp_avg', 'sbp_std', 'sbp_mid',\n",
       "       'sbp_25', 'sbp_75', 'dbp_max', 'dbp_min', 'dbp_avg', 'dbp_std',\n",
       "       'dbp_mid', 'dbp_25', 'dbp_75', 'mbp_max', 'mbp_min', 'mbp_avg',\n",
       "       'mbp_std', 'mbp_mid', 'mbp_25', 'mbp_75', 'si_max', 'si_min', 'si_avg',\n",
       "       'si_std', 'si_mid', 'si_25', 'si_75', 'spo2_max', 'spo2_min',\n",
       "       'spo2_avg', 'spo2_std', 'spo2_mid', 'spo2_25', 'spo2_75', 'tem_max',\n",
       "       'tem_min', 'tem_avg', 'tem_std', 'tem_mid', 'tem_25', 'tem_75',\n",
       "       'uo_max', 'uo_min', 'uo_avg', 'uo_std', 'uo_mid', 'uo_25', 'uo_75',\n",
       "       'uosum', 'gcs_max', 'gcs_min', 'gcs_avg', 'gcs_std', 'gcs_mid',\n",
       "       'gcs_25', 'gcs_75', 'height', 'weight', 'age', 'lostime'],\n",
       "      dtype='object')"
      ]
     },
     "execution_count": 46,
     "metadata": {},
     "output_type": "execute_result"
    }
   ],
   "source": [
    "#导入数据\n",
    "data = pd.read_csv('yj_aki_finaleigen.csv')\n",
    "#处理年龄\n",
    "index = data[data['age']>200].index\n",
    "data['age'].loc[index] = 91.4\n",
    "#处理哑变量\n",
    "dummy_feature = data[['gender', 'admission_type']]\n",
    "dummies = pd.get_dummies(dummy_feature,prefix=['sex','type'])\n",
    "data = data.drop(['gender', 'admission_type','vaso','vent'], axis=1)\n",
    "datawithdummy = dummies.join(data)\n",
    "data = datawithdummy\n",
    "#去掉建模无关项\n",
    "data = data.drop(['akistarttime','icustay_id','ethnicity','hospital_expire_flag'],axis=1)\n",
    "data.keys()"
   ]
  },
  {
   "cell_type": "markdown",
   "metadata": {},
   "source": [
    "## 比较插值方法"
   ]
  },
  {
   "cell_type": "code",
   "execution_count": 47,
   "metadata": {
    "collapsed": false
   },
   "outputs": [],
   "source": [
    "from sklearn.ensemble import RandomForestRegressor\n",
    "from sklearn.pipeline import Pipeline\n",
    "from sklearn.impute import SimpleImputer\n",
    "from sklearn.model_selection import cross_val_score\n",
    "from sklearn.preprocessing import RobustScaler\n",
    "scale = RobustScaler()"
   ]
  },
  {
   "cell_type": "markdown",
   "metadata": {},
   "source": [
    "### 直接去掉缺失值后建模"
   ]
  },
  {
   "cell_type": "code",
   "execution_count": 48,
   "metadata": {
    "collapsed": false
   },
   "outputs": [
    {
     "name": "stdout",
     "output_type": "stream",
     "text": [
      "Score with the dropna dataset = 0.79644\n"
     ]
    }
   ],
   "source": [
    "data_drop = data.copy()\n",
    "data_drop= data_drop.dropna()\n",
    "labelmat_drop = data_drop['classlabel']\n",
    "datamat_drop = data_drop.drop(['classlabel'],axis=1)\n",
    "datamat_drop['BMI'] = (datamat_drop['weight'])/(datamat_drop['height']*datamat_drop['height']*0.0001)\n",
    "datamat_drop = datamat_drop.drop(['height','weight'], axis=1)\n",
    "scale.fit(datamat_drop)\n",
    "datamat_drop = scale.transform(datamat_drop)\n",
    "# Estimate the score on the dropna dataset\n",
    "estimator = RandomForestRegressor(random_state=0, n_estimators=100, n_jobs=-1)\n",
    "score_drop = cross_val_score(estimator, datamat_drop, labelmat_drop).mean()\n",
    "print(\"Score with the dropna dataset = %.5f\" % score_drop)"
   ]
  },
  {
   "cell_type": "markdown",
   "metadata": {},
   "source": [
    "### 用平均值插值后建模"
   ]
  },
  {
   "cell_type": "code",
   "execution_count": 49,
   "metadata": {
    "collapsed": false
   },
   "outputs": [
    {
     "name": "stdout",
     "output_type": "stream",
     "text": [
      "Score after imputation of the missing values with mean = 0.77257\n"
     ]
    }
   ],
   "source": [
    "data_mean = data.copy()\n",
    "labelmat_mean = data_mean['classlabel']\n",
    "datamat_mean = data_mean.drop(['classlabel'],axis=1)\n",
    "datamat_mean['BMI'] = (datamat_mean['weight'])/(datamat_mean['height']*datamat_mean['height']*0.0001)\n",
    "datamat_mean = datamat_mean.drop(['height','weight'], axis=1)\n",
    "estimator_mean = Pipeline([(\"imputer\", SimpleImputer(missing_values=np.nan,\n",
    "                                          strategy=\"mean\")),\n",
    "                           (\"scale\",RobustScaler()),\n",
    "                      (\"forest\", RandomForestRegressor(random_state=0,\n",
    "                                                       n_estimators=100,\n",
    "                                                      n_jobs=-1))])\n",
    "score_mean = cross_val_score(estimator_mean, datamat_mean, labelmat_mean).mean()\n",
    "print(\"Score after imputation of the missing values with mean = %.5f\" % score_mean)"
   ]
  },
  {
   "cell_type": "markdown",
   "metadata": {},
   "source": [
    "### 用中位数插值后建模"
   ]
  },
  {
   "cell_type": "code",
   "execution_count": 50,
   "metadata": {
    "collapsed": false
   },
   "outputs": [
    {
     "name": "stdout",
     "output_type": "stream",
     "text": [
      "Score after imputation of the missing values with mean = 0.76975\n"
     ]
    }
   ],
   "source": [
    "data_median = data.copy()\n",
    "labelmat_median = data_median['classlabel']\n",
    "datamat_median = data_median.drop(['classlabel'],axis=1)\n",
    "datamat_median['BMI'] = (datamat_median['weight'])/(datamat_median['height']*datamat_median['height']*0.0001)\n",
    "datamat_median = datamat_median.drop(['height','weight'], axis=1)\n",
    "estimator_median = Pipeline([(\"imputer\", SimpleImputer(missing_values=np.nan,\n",
    "                                          strategy=\"median\")),\n",
    "                             (\"scale\",RobustScaler()),\n",
    "                      (\"forest\", RandomForestRegressor(random_state=0,\n",
    "                                                       n_estimators=100,\n",
    "                                                      n_jobs=-1))])\n",
    "score_median = cross_val_score(estimator_median, datamat_median, labelmat_median).mean()\n",
    "print(\"Score after imputation of the missing values with mean = %.5f\" % score_median)"
   ]
  },
  {
   "cell_type": "markdown",
   "metadata": {},
   "source": [
    "### 众数插值后建模"
   ]
  },
  {
   "cell_type": "code",
   "execution_count": 51,
   "metadata": {
    "collapsed": false
   },
   "outputs": [
    {
     "name": "stdout",
     "output_type": "stream",
     "text": [
      "Score after imputation of the missing values with mean = 0.77110\n"
     ]
    }
   ],
   "source": [
    "data_most = data.copy()\n",
    "labelmat_most = data_most['classlabel']\n",
    "datamat_most = data_most.drop(['classlabel'],axis=1)\n",
    "datamat_most['BMI'] = (datamat_most['weight'])/(datamat_most['height']*datamat_most['height']*0.0001)\n",
    "datamat_most = datamat_most.drop(['height','weight'], axis=1)\n",
    "estimator_most = Pipeline([(\"imputer\", SimpleImputer(missing_values=np.nan,\n",
    "                                          strategy=\"most_frequent\")),\n",
    "                             (\"scale\",RobustScaler()),\n",
    "                      (\"forest\", RandomForestRegressor(random_state=0,\n",
    "                                                       n_estimators=100,\n",
    "                                                      n_jobs=-1))])\n",
    "score_most = cross_val_score(estimator_most, datamat_most, labelmat_most).mean()\n",
    "print(\"Score after imputation of the missing values with mean = %.5f\" % score_most)"
   ]
  },
  {
   "cell_type": "code",
   "execution_count": null,
   "metadata": {
    "collapsed": true
   },
   "outputs": [],
   "source": []
  },
  {
   "cell_type": "code",
   "execution_count": null,
   "metadata": {
    "collapsed": true
   },
   "outputs": [],
   "source": []
  },
  {
   "cell_type": "code",
   "execution_count": null,
   "metadata": {
    "collapsed": true
   },
   "outputs": [],
   "source": []
  },
  {
   "cell_type": "code",
   "execution_count": null,
   "metadata": {
    "collapsed": true
   },
   "outputs": [],
   "source": []
  },
  {
   "cell_type": "code",
   "execution_count": null,
   "metadata": {
    "collapsed": true
   },
   "outputs": [],
   "source": []
  }
 ],
 "metadata": {
  "kernelspec": {
   "display_name": "Python 3",
   "language": "python",
   "name": "python3"
  },
  "language_info": {
   "codemirror_mode": {
    "name": "ipython",
    "version": 3
   },
   "file_extension": ".py",
   "mimetype": "text/x-python",
   "name": "python",
   "nbconvert_exporter": "python",
   "pygments_lexer": "ipython3",
   "version": "3.6.7"
  }
 },
 "nbformat": 4,
 "nbformat_minor": 2
}
