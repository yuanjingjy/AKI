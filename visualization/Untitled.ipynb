{
 "cells": [
  {
   "cell_type": "code",
   "execution_count": 6,
   "metadata": {
    "collapsed": false
   },
   "outputs": [],
   "source": [
    "import numpy as np\n",
    "a = np.array([[1, 2, 5, 6], [3, 4, 8, 9]])\n",
    "b = np.array([[5, 6, 5, 8]])"
   ]
  },
  {
   "cell_type": "code",
   "execution_count": 7,
   "metadata": {
    "collapsed": false
   },
   "outputs": [
    {
     "ename": "ValueError",
     "evalue": "all the input array dimensions except for the concatenation axis must match exactly",
     "output_type": "error",
     "traceback": [
      "\u001b[0;31m---------------------------------------------------------------------------\u001b[0m",
      "\u001b[0;31mValueError\u001b[0m                                Traceback (most recent call last)",
      "\u001b[0;32m<ipython-input-7-29faf5e86ba0>\u001b[0m in \u001b[0;36m<module>\u001b[0;34m()\u001b[0m\n\u001b[0;32m----> 1\u001b[0;31m \u001b[0mc\u001b[0m \u001b[1;33m=\u001b[0m \u001b[0mnp\u001b[0m\u001b[1;33m.\u001b[0m\u001b[0mconcatenate\u001b[0m\u001b[1;33m(\u001b[0m\u001b[1;33m(\u001b[0m\u001b[0ma\u001b[0m\u001b[1;33m,\u001b[0m\u001b[0mb\u001b[0m\u001b[1;33m)\u001b[0m\u001b[1;33m,\u001b[0m\u001b[0maxis\u001b[0m\u001b[1;33m=\u001b[0m\u001b[1;36m1\u001b[0m\u001b[1;33m)\u001b[0m\u001b[1;33m\u001b[0m\u001b[1;33m\u001b[0m\u001b[0m\n\u001b[0m",
      "\u001b[0;31mValueError\u001b[0m: all the input array dimensions except for the concatenation axis must match exactly"
     ]
    }
   ],
   "source": [
    " c = np.concatenate((a,b),axis=1)"
   ]
  },
  {
   "cell_type": "code",
   "execution_count": 37,
   "metadata": {
    "collapsed": false
   },
   "outputs": [
    {
     "data": {
      "text/plain": [
       "(4, 3)"
      ]
     },
     "execution_count": 37,
     "metadata": {},
     "output_type": "execute_result"
    }
   ],
   "source": [
    "c.shape\n"
   ]
  },
  {
   "cell_type": "code",
   "execution_count": 2,
   "metadata": {
    "collapsed": false
   },
   "outputs": [],
   "source": [
    "a = [0.79846387,0.81911315,0.82474857, 0.83016875, 0.83444728, 0.83818673,\n",
    " 0.84097678, 0.8506907,  0.85777745, 0.86515175, 0.86961572, 0.87182161,\n",
    " 0.87177853, 0.87284762, 0.87409219, 0.87475296, 0.87527333, 0.87602743,\n",
    " 0.87578792, 0.87689625, 0.87727082, 0.87857947, 0.87948411, 0.87951235,\n",
    " 0.87967895, 0.88063344, 0.88128571, 0.8809832,  0.88075284, 0.88091921,\n",
    " 0.88142234, 0.88174316, 0.88154616, 0.88174569, 0.88173609, 0.88071254,\n",
    " 0.88114276, 0.88155628, 0.88130072, 0.88188676, 0.88184925, 0.88179919,\n",
    " 0.88112136, 0.88176003, 0.88134503, 0.88160543, 0.88186127, 0.88170718,\n",
    " 0.88153651, 0.88200128, 0.88191697, 0.88222333, 0.88134742, 0.88142798,\n",
    " 0.88165735, 0.88158452, 0.88201025, 0.88180529, 0.88152075, 0.88146956,\n",
    " 0.88144574, 0.88207075, 0.88218965, 0.88175742, 0.88221195, 0.88222018,\n",
    " 0.88170561, 0.88109719, 0.88156689, 0.88179128, 0.8815969,  0.88150521,\n",
    " 0.88160355, 0.88185723, 0.88214001, 0.88163399, 0.88182002, 0.88150069,\n",
    " 0.88131751, 0.88197391, 0.88198854, 0.88159642, 0.88159642, 0.88159642,\n",
    " 0.88159642, 0.88159642, 0.88159642]"
   ]
  },
  {
   "cell_type": "code",
   "execution_count": 5,
   "metadata": {
    "collapsed": false
   },
   "outputs": [],
   "source": [
    "import pandas as pd\n",
    "dataframe = pd.DataFrame(a)\n",
    "dataframe.to_csv('scores.csv',index = 0)"
   ]
  },
  {
   "cell_type": "code",
   "execution_count": null,
   "metadata": {
    "collapsed": true
   },
   "outputs": [],
   "source": []
  }
 ],
 "metadata": {
  "kernelspec": {
   "display_name": "Python 3",
   "language": "python",
   "name": "python3"
  },
  "language_info": {
   "codemirror_mode": {
    "name": "ipython",
    "version": 3
   },
   "file_extension": ".py",
   "mimetype": "text/x-python",
   "name": "python",
   "nbconvert_exporter": "python",
   "pygments_lexer": "ipython3",
   "version": "3.6.7"
  }
 },
 "nbformat": 4,
 "nbformat_minor": 2
}
