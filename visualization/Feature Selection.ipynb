{
 "cells": [
  {
   "cell_type": "markdown",
   "metadata": {},
   "source": [
    "### 1. 对新加入的变量进行分析"
   ]
  },
  {
   "cell_type": "code",
   "execution_count": 18,
   "metadata": {
    "collapsed": true
   },
   "outputs": [],
   "source": [
    "import pandas as pd \n",
    "import numpy as np \n",
    "import seaborn as sn\n",
    "import matplotlib.pyplot as plt\n",
    "import pdvega\n",
    "import warnings\n",
    "warnings.filterwarnings('ignore')"
   ]
  },
  {
   "cell_type": "code",
   "execution_count": 66,
   "metadata": {
    "collapsed": false
   },
   "outputs": [
    {
     "data": {
      "image/png": "[encoded data removed]",
      "text/plain": [
       "<matplotlib.figure.Figure at 0x23522289898>"
      ]
     },
     "metadata": {},
     "output_type": "display_data"
    }
   ],
   "source": [
    "data = pd.read_csv('preprocessed_data.csv')\n",
    "labelmat = data['classlabel']\n",
    "datamat = data.drop(['classlabel'],axis=1)\n",
    "data1 = data[['classlabel','creat','inputsum','diu_0','diu_1','uo_max',\n",
    "                  'uo_min','uo_avg','uo_std','uo_mid','uo_25',\n",
    "                  'uo_75','uosum']]\n",
    "core1 = data1.corr()\n",
    "sn.heatmap(core1,cmap=\"Blues\")\n",
    "plt.show()"
   ]
  },
  {
   "cell_type": "code",
   "execution_count": 20,
   "metadata": {
    "collapsed": false
   },
   "outputs": [
    {
     "data": {
      "text/html": [
       "<div>\n",
       "<table border=\"1\" class=\"dataframe\">\n",
       "  <thead>\n",
       "    <tr style=\"text-align: right;\">\n",
       "      <th></th>\n",
       "      <th>classlabel</th>\n",
       "      <th>creat</th>\n",
       "      <th>inputsum</th>\n",
       "      <th>diu_0</th>\n",
       "      <th>diu_1</th>\n",
       "      <th>uo_max</th>\n",
       "      <th>uo_min</th>\n",
       "      <th>uo_avg</th>\n",
       "      <th>uo_std</th>\n",
       "      <th>uo_mid</th>\n",
       "      <th>uo_25</th>\n",
       "      <th>uo_75</th>\n",
       "      <th>uosum</th>\n",
       "    </tr>\n",
       "  </thead>\n",
       "  <tbody>\n",
       "    <tr>\n",
       "      <th>classlabel</th>\n",
       "      <td>1.000000</td>\n",
       "      <td>0.617554</td>\n",
       "      <td>0.276081</td>\n",
       "      <td>-0.194348</td>\n",
       "      <td>-0.037423</td>\n",
       "      <td>-0.274528</td>\n",
       "      <td>-0.496862</td>\n",
       "      <td>-0.429900</td>\n",
       "      <td>-0.245743</td>\n",
       "      <td>-0.457503</td>\n",
       "      <td>-0.484496</td>\n",
       "      <td>-0.407515</td>\n",
       "      <td>-0.168438</td>\n",
       "    </tr>\n",
       "    <tr>\n",
       "      <th>creat</th>\n",
       "      <td>0.617554</td>\n",
       "      <td>1.000000</td>\n",
       "      <td>0.126614</td>\n",
       "      <td>-0.150734</td>\n",
       "      <td>-0.047176</td>\n",
       "      <td>-0.297617</td>\n",
       "      <td>-0.392327</td>\n",
       "      <td>-0.371857</td>\n",
       "      <td>-0.277397</td>\n",
       "      <td>-0.370335</td>\n",
       "      <td>-0.385557</td>\n",
       "      <td>-0.351080</td>\n",
       "      <td>-0.241837</td>\n",
       "    </tr>\n",
       "    <tr>\n",
       "      <th>inputsum</th>\n",
       "      <td>0.276081</td>\n",
       "      <td>0.126614</td>\n",
       "      <td>1.000000</td>\n",
       "      <td>-0.058023</td>\n",
       "      <td>-0.088947</td>\n",
       "      <td>-0.075507</td>\n",
       "      <td>-0.240247</td>\n",
       "      <td>-0.196234</td>\n",
       "      <td>-0.084874</td>\n",
       "      <td>-0.203405</td>\n",
       "      <td>-0.214113</td>\n",
       "      <td>-0.188428</td>\n",
       "      <td>0.216624</td>\n",
       "    </tr>\n",
       "    <tr>\n",
       "      <th>diu_0</th>\n",
       "      <td>-0.194348</td>\n",
       "      <td>-0.150734</td>\n",
       "      <td>-0.058023</td>\n",
       "      <td>1.000000</td>\n",
       "      <td>0.129953</td>\n",
       "      <td>0.023123</td>\n",
       "      <td>0.120312</td>\n",
       "      <td>0.095647</td>\n",
       "      <td>0.011815</td>\n",
       "      <td>0.120574</td>\n",
       "      <td>0.126172</td>\n",
       "      <td>0.097461</td>\n",
       "      <td>-0.022659</td>\n",
       "    </tr>\n",
       "    <tr>\n",
       "      <th>diu_1</th>\n",
       "      <td>-0.037423</td>\n",
       "      <td>-0.047176</td>\n",
       "      <td>-0.088947</td>\n",
       "      <td>0.129953</td>\n",
       "      <td>1.000000</td>\n",
       "      <td>-0.008807</td>\n",
       "      <td>-0.009221</td>\n",
       "      <td>-0.015581</td>\n",
       "      <td>0.001490</td>\n",
       "      <td>-0.017170</td>\n",
       "      <td>-0.015540</td>\n",
       "      <td>-0.016746</td>\n",
       "      <td>-0.015086</td>\n",
       "    </tr>\n",
       "    <tr>\n",
       "      <th>uo_max</th>\n",
       "      <td>-0.274528</td>\n",
       "      <td>-0.297617</td>\n",
       "      <td>-0.075507</td>\n",
       "      <td>0.023123</td>\n",
       "      <td>-0.008807</td>\n",
       "      <td>1.000000</td>\n",
       "      <td>0.470870</td>\n",
       "      <td>0.822515</td>\n",
       "      <td>0.930023</td>\n",
       "      <td>0.675062</td>\n",
       "      <td>0.595752</td>\n",
       "      <td>0.783454</td>\n",
       "      <td>0.713227</td>\n",
       "    </tr>\n",
       "    <tr>\n",
       "      <th>uo_min</th>\n",
       "      <td>-0.496862</td>\n",
       "      <td>-0.392327</td>\n",
       "      <td>-0.240247</td>\n",
       "      <td>0.120312</td>\n",
       "      <td>-0.009221</td>\n",
       "      <td>0.470870</td>\n",
       "      <td>1.000000</td>\n",
       "      <td>0.750312</td>\n",
       "      <td>0.419145</td>\n",
       "      <td>0.796577</td>\n",
       "      <td>0.862081</td>\n",
       "      <td>0.709631</td>\n",
       "      <td>0.365259</td>\n",
       "    </tr>\n",
       "    <tr>\n",
       "      <th>uo_avg</th>\n",
       "      <td>-0.429900</td>\n",
       "      <td>-0.371857</td>\n",
       "      <td>-0.196234</td>\n",
       "      <td>0.095647</td>\n",
       "      <td>-0.015581</td>\n",
       "      <td>0.822515</td>\n",
       "      <td>0.750312</td>\n",
       "      <td>1.000000</td>\n",
       "      <td>0.767247</td>\n",
       "      <td>0.944357</td>\n",
       "      <td>0.888787</td>\n",
       "      <td>0.968666</td>\n",
       "      <td>0.593733</td>\n",
       "    </tr>\n",
       "    <tr>\n",
       "      <th>uo_std</th>\n",
       "      <td>-0.245743</td>\n",
       "      <td>-0.277397</td>\n",
       "      <td>-0.084874</td>\n",
       "      <td>0.011815</td>\n",
       "      <td>0.001490</td>\n",
       "      <td>0.930023</td>\n",
       "      <td>0.419145</td>\n",
       "      <td>0.767247</td>\n",
       "      <td>1.000000</td>\n",
       "      <td>0.611220</td>\n",
       "      <td>0.527647</td>\n",
       "      <td>0.740471</td>\n",
       "      <td>0.670418</td>\n",
       "    </tr>\n",
       "    <tr>\n",
       "      <th>uo_mid</th>\n",
       "      <td>-0.457503</td>\n",
       "      <td>-0.370335</td>\n",
       "      <td>-0.203405</td>\n",
       "      <td>0.120574</td>\n",
       "      <td>-0.017170</td>\n",
       "      <td>0.675062</td>\n",
       "      <td>0.796577</td>\n",
       "      <td>0.944357</td>\n",
       "      <td>0.611220</td>\n",
       "      <td>1.000000</td>\n",
       "      <td>0.940380</td>\n",
       "      <td>0.926949</td>\n",
       "      <td>0.519844</td>\n",
       "    </tr>\n",
       "    <tr>\n",
       "      <th>uo_25</th>\n",
       "      <td>-0.484496</td>\n",
       "      <td>-0.385557</td>\n",
       "      <td>-0.214113</td>\n",
       "      <td>0.126172</td>\n",
       "      <td>-0.015540</td>\n",
       "      <td>0.595752</td>\n",
       "      <td>0.862081</td>\n",
       "      <td>0.888787</td>\n",
       "      <td>0.527647</td>\n",
       "      <td>0.940380</td>\n",
       "      <td>1.000000</td>\n",
       "      <td>0.851728</td>\n",
       "      <td>0.471661</td>\n",
       "    </tr>\n",
       "    <tr>\n",
       "      <th>uo_75</th>\n",
       "      <td>-0.407515</td>\n",
       "      <td>-0.351080</td>\n",
       "      <td>-0.188428</td>\n",
       "      <td>0.097461</td>\n",
       "      <td>-0.016746</td>\n",
       "      <td>0.783454</td>\n",
       "      <td>0.709631</td>\n",
       "      <td>0.968666</td>\n",
       "      <td>0.740471</td>\n",
       "      <td>0.926949</td>\n",
       "      <td>0.851728</td>\n",
       "      <td>1.000000</td>\n",
       "      <td>0.591026</td>\n",
       "    </tr>\n",
       "    <tr>\n",
       "      <th>uosum</th>\n",
       "      <td>-0.168438</td>\n",
       "      <td>-0.241837</td>\n",
       "      <td>0.216624</td>\n",
       "      <td>-0.022659</td>\n",
       "      <td>-0.015086</td>\n",
       "      <td>0.713227</td>\n",
       "      <td>0.365259</td>\n",
       "      <td>0.593733</td>\n",
       "      <td>0.670418</td>\n",
       "      <td>0.519844</td>\n",
       "      <td>0.471661</td>\n",
       "      <td>0.591026</td>\n",
       "      <td>1.000000</td>\n",
       "    </tr>\n",
       "  </tbody>\n",
       "</table>\n",
       "</div>"
      ],
      "text/plain": [
       "            classlabel     creat  inputsum     diu_0     diu_1    uo_max  \\\n",
       "classlabel    1.000000  0.617554  0.276081 -0.194348 -0.037423 -0.274528   \n",
       "creat         0.617554  1.000000  0.126614 -0.150734 -0.047176 -0.297617   \n",
       "inputsum      0.276081  0.126614  1.000000 -0.058023 -0.088947 -0.075507   \n",
       "diu_0        -0.194348 -0.150734 -0.058023  1.000000  0.129953  0.023123   \n",
       "diu_1        -0.037423 -0.047176 -0.088947  0.129953  1.000000 -0.008807   \n",
       "uo_max       -0.274528 -0.297617 -0.075507  0.023123 -0.008807  1.000000   \n",
       "uo_min       -0.496862 -0.392327 -0.240247  0.120312 -0.009221  0.470870   \n",
       "uo_avg       -0.429900 -0.371857 -0.196234  0.095647 -0.015581  0.822515   \n",
       "uo_std       -0.245743 -0.277397 -0.084874  0.011815  0.001490  0.930023   \n",
       "uo_mid       -0.457503 -0.370335 -0.203405  0.120574 -0.017170  0.675062   \n",
       "uo_25        -0.484496 -0.385557 -0.214113  0.126172 -0.015540  0.595752   \n",
       "uo_75        -0.407515 -0.351080 -0.188428  0.097461 -0.016746  0.783454   \n",
       "uosum        -0.168438 -0.241837  0.216624 -0.022659 -0.015086  0.713227   \n",
       "\n",
       "              uo_min    uo_avg    uo_std    uo_mid     uo_25     uo_75  \\\n",
       "classlabel -0.496862 -0.429900 -0.245743 -0.457503 -0.484496 -0.407515   \n",
       "creat      -0.392327 -0.371857 -0.277397 -0.370335 -0.385557 -0.351080   \n",
       "inputsum   -0.240247 -0.196234 -0.084874 -0.203405 -0.214113 -0.188428   \n",
       "diu_0       0.120312  0.095647  0.011815  0.120574  0.126172  0.097461   \n",
       "diu_1      -0.009221 -0.015581  0.001490 -0.017170 -0.015540 -0.016746   \n",
       "uo_max      0.470870  0.822515  0.930023  0.675062  0.595752  0.783454   \n",
       "uo_min      1.000000  0.750312  0.419145  0.796577  0.862081  0.709631   \n",
       "uo_avg      0.750312  1.000000  0.767247  0.944357  0.888787  0.968666   \n",
       "uo_std      0.419145  0.767247  1.000000  0.611220  0.527647  0.740471   \n",
       "uo_mid      0.796577  0.944357  0.611220  1.000000  0.940380  0.926949   \n",
       "uo_25       0.862081  0.888787  0.527647  0.940380  1.000000  0.851728   \n",
       "uo_75       0.709631  0.968666  0.740471  0.926949  0.851728  1.000000   \n",
       "uosum       0.365259  0.593733  0.670418  0.519844  0.471661  0.591026   \n",
       "\n",
       "               uosum  \n",
       "classlabel -0.168438  \n",
       "creat      -0.241837  \n",
       "inputsum    0.216624  \n",
       "diu_0      -0.022659  \n",
       "diu_1      -0.015086  \n",
       "uo_max      0.713227  \n",
       "uo_min      0.365259  \n",
       "uo_avg      0.593733  \n",
       "uo_std      0.670418  \n",
       "uo_mid      0.519844  \n",
       "uo_25       0.471661  \n",
       "uo_75       0.591026  \n",
       "uosum       1.000000  "
      ]
     },
     "execution_count": 20,
     "metadata": {},
     "output_type": "execute_result"
    }
   ],
   "source": [
    "core1"
   ]
  },
  {
   "cell_type": "code",
   "execution_count": 23,
   "metadata": {
    "collapsed": false
   },
   "outputs": [
    {
     "data": {
      "text/html": [
       "<div>\n",
       "<table border=\"1\" class=\"dataframe\">\n",
       "  <thead>\n",
       "    <tr style=\"text-align: right;\">\n",
       "      <th></th>\n",
       "      <th>0</th>\n",
       "    </tr>\n",
       "  </thead>\n",
       "  <tbody>\n",
       "  </tbody>\n",
       "</table>\n",
       "</div>"
      ],
      "text/plain": [
       "Empty DataFrame\n",
       "Columns: [0]\n",
       "Index: []"
      ]
     },
     "execution_count": 23,
     "metadata": {},
     "output_type": "execute_result"
    }
   ],
   "source": [
    "from sklearn.feature_selection import VarianceThreshold\n",
    "sel_var = VarianceThreshold()\n",
    "data_var = sel_var.fit_transform(datamat)\n",
    "data_var\n",
    "result = sel_var.get_support(indices=False)\n",
    "eigens = ['creat', 'hr_max', 'hr_min', 'hr_avg', 'hr_std', 'hr_mid',\n",
    "            'hr_25', 'hr_75', 'rr_max', 'rr_min', 'rr_avg', 'rr_std',\n",
    "            'rr_mid', 'rr_25', 'rr_75', 'sbp_max', 'sbp_min', 'sbp_avg',\n",
    "            'sbp_std', 'sbp_mid', 'sbp_25', 'sbp_75', 'dbp_max', 'dbp_min',\n",
    "            'dbp_avg', 'dbp_std', 'dbp_mid', 'dbp_25', 'dbp_75', 'mbp_max',\n",
    "            'mbp_min', 'mbp_avg', 'mbp_std', 'mbp_mid', 'mbp_25', 'mbp_75',\n",
    "            'si_max', 'si_min', 'si_avg', 'si_std', 'si_mid', 'si_25', 'si_75',\n",
    "            'spo2_max', 'spo2_min', 'spo2_avg', 'spo2_std', 'spo2_mid', 'spo2_25',\n",
    "            'spo2_75', 'tem_max', 'tem_min', 'tem_avg', 'tem_std', 'tem_mid', 'tem_25',\n",
    "            'tem_75', 'uo_max', 'uo_min', 'uo_avg', 'uo_std', 'uo_mid', 'uo_25', 'uo_75',\n",
    "            'uosum', 'gcs_max', 'gcs_min', 'gcs_avg', 'gcs_std', 'gcs_mid', 'gcs_25', 'gcs_75',\n",
    "            'age', 'lostime', 'inputsum','type_0','type_1','type_2',\n",
    "            'F', 'M', 'vaso_0', 'vaso_1', 'vent_0', 'vent_1', 'bmi_0', 'bmi_1','diu_0', 'diu_1','BMI']\n",
    "# dataframe = pd.DataFrame(result.reshape(1,90),columns=eigens)\n",
    "dataframe = pd.DataFrame(eigens)\n",
    "dataframe[~result]"
   ]
  },
  {
   "cell_type": "markdown",
   "metadata": {
    "collapsed": false
   },
   "source": [
    "### 2.Python做 K-S检验"
   ]
  },
  {
   "cell_type": "code",
   "execution_count": 31,
   "metadata": {
    "collapsed": false
   },
   "outputs": [
    {
     "data": {
      "text/html": [
       "<div>\n",
       "<table border=\"1\" class=\"dataframe\">\n",
       "  <thead>\n",
       "    <tr style=\"text-align: right;\">\n",
       "      <th></th>\n",
       "      <th>hr_min</th>\n",
       "      <th>rr_75</th>\n",
       "      <th>mbp_std</th>\n",
       "      <th>spo2_25</th>\n",
       "      <th>F</th>\n",
       "    </tr>\n",
       "  </thead>\n",
       "  <tbody>\n",
       "    <tr>\n",
       "      <th>0</th>\n",
       "      <td>0.223389</td>\n",
       "      <td>0.14108</td>\n",
       "      <td>0.055973</td>\n",
       "      <td>0.08567</td>\n",
       "      <td>1.0</td>\n",
       "    </tr>\n",
       "  </tbody>\n",
       "</table>\n",
       "</div>"
      ],
      "text/plain": [
       "     hr_min    rr_75   mbp_std  spo2_25    F\n",
       "0  0.223389  0.14108  0.055973  0.08567  1.0"
      ]
     },
     "execution_count": 31,
     "metadata": {},
     "output_type": "execute_result"
    }
   ],
   "source": [
    "from scipy.stats import ks_2samp\n",
    "import numpy as np\n",
    "\n",
    "data1 = data.loc[data['classlabel']==1,:]\n",
    "data2 = data.loc[data['classlabel']==0,:]\n",
    "datamat1 = data1.drop(['classlabel'],axis=1)\n",
    "datamat2 = data2.drop(['classlabel'],axis=1)\n",
    "\n",
    "n_features = datamat1.shape[1]\n",
    "test = []\n",
    "for i in range(n_features):\n",
    "    test_tmp = ks_2samp(datamat1.iloc[:,i],datamat2.iloc[:,i])\n",
    "    test.append(test_tmp.pvalue)\n",
    "pvalues = np.array(test)\n",
    "\n",
    "dis_P = pvalues[pvalues>=0.05]\n",
    "eigens = np.array(eigens)\n",
    "keys = eigens[pvalues>=0.05]\n",
    "discard = pd.DataFrame(dis_P.reshape(1,5),columns=keys)\n",
    "discard\n",
    "\n"
   ]
  },
  {
   "cell_type": "markdown",
   "metadata": {},
   "source": [
    "### 去掉假设检验不通过的项,以及肌酐"
   ]
  },
  {
   "cell_type": "code",
   "execution_count": 68,
   "metadata": {
    "collapsed": false
   },
   "outputs": [],
   "source": [
    "datamat.drop(['creat','hr_min','rr_75','mbp_std','spo2_25','F'],axis=1, inplace=True)"
   ]
  },
  {
   "cell_type": "code",
   "execution_count": 56,
   "metadata": {
    "collapsed": false
   },
   "outputs": [
    {
     "data": {
      "text/plain": [
       "RFECV(cv=StratifiedKFold(n_splits=10, random_state=None, shuffle=False),\n",
       "   estimator=SVC(C=1.0, cache_size=200, class_weight=None, coef0=0.0,\n",
       "  decision_function_shape='ovr', degree=3, gamma='auto_deprecated',\n",
       "  kernel='linear', max_iter=-1, probability=False, random_state=None,\n",
       "  shrinking=True, tol=0.001, verbose=False),\n",
       "   min_features_to_select=1, n_jobs=None, scoring='accuracy', step=1,\n",
       "   verbose=0)"
      ]
     },
     "execution_count": 56,
     "metadata": {},
     "output_type": "execute_result"
    }
   ],
   "source": [
    "from sklearn.svm import SVC\n",
    "from sklearn.model_selection import StratifiedKFold\n",
    "from sklearn.feature_selection import RFECV\n",
    "svc = SVC(kernel=\"linear\")\n",
    "rfecv = RFECV(estimator=svc,step=1,cv=StratifiedKFold(10),scoring=\"accuracy\")\n",
    "rfecv.fit(datamat,labelmat)"
   ]
  },
  {
   "cell_type": "code",
   "execution_count": 57,
   "metadata": {
    "collapsed": false
   },
   "outputs": [
    {
     "data": {
      "text/plain": [
       "52"
      ]
     },
     "execution_count": 57,
     "metadata": {},
     "output_type": "execute_result"
    }
   ],
   "source": [
    "rfecv.n_features_"
   ]
  },
  {
   "cell_type": "code",
   "execution_count": 58,
   "metadata": {
    "collapsed": false
   },
   "outputs": [
    {
     "data": {
      "text/plain": [
       "Index(['hr_max', 'hr_std', 'hr_mid', 'hr_25', 'hr_75', 'rr_avg', 'rr_std',\n",
       "       'rr_mid', 'rr_25', 'sbp_max', 'sbp_min', 'sbp_std', 'sbp_mid', 'sbp_25',\n",
       "       'sbp_75', 'dbp_avg', 'dbp_std', 'mbp_min', 'mbp_25', 'mbp_75', 'si_max',\n",
       "       'si_avg', 'si_25', 'spo2_max', 'spo2_min', 'spo2_avg', 'spo2_std',\n",
       "       'spo2_mid', 'spo2_75', 'tem_max', 'tem_min', 'tem_avg', 'tem_std',\n",
       "       'tem_25', 'tem_75', 'uo_max', 'uo_min', 'uo_avg', 'uo_std', 'uo_mid',\n",
       "       'uo_25', 'uosum', 'gcs_min', 'gcs_avg', 'lostime', 'inputsum', 'type_0',\n",
       "       'type_2', 'M', 'vaso_1', 'bmi_1', 'diu_0'],\n",
       "      dtype='object')"
      ]
     },
     "execution_count": 58,
     "metadata": {},
     "output_type": "execute_result"
    }
   ],
   "source": [
    "keys = datamat.keys()\n",
    "keys[rfecv.support_]"
   ]
  },
  {
   "cell_type": "code",
   "execution_count": 52,
   "metadata": {
    "collapsed": false,
    "scrolled": true
   },
   "outputs": [
    {
     "data": {
      "text/plain": [
       "RFECV(cv=StratifiedKFold(n_splits=2, random_state=None, shuffle=False),\n",
       "   estimator=AdaBoostClassifier(algorithm='SAMME.R', base_estimator=None,\n",
       "          learning_rate=1.0, n_estimators=100, random_state=None),\n",
       "   min_features_to_select=1, n_jobs=None, scoring='accuracy', step=1,\n",
       "   verbose=0)"
      ]
     },
     "execution_count": 52,
     "metadata": {},
     "output_type": "execute_result"
    }
   ],
   "source": [
    "from sklearn.ensemble import AdaBoostClassifier\n",
    "from sklearn.model_selection import StratifiedKFold\n",
    "from sklearn.feature_selection import RFECV\n",
    "ada = AdaBoostClassifier(n_estimators=100)\n",
    "rfecv = RFECV(estimator=ada,step=1,cv=StratifiedKFold(2),scoring=\"accuracy\")\n",
    "rfecv.fit(datamat,labelmat)"
   ]
  },
  {
   "cell_type": "code",
   "execution_count": 53,
   "metadata": {
    "collapsed": false
   },
   "outputs": [
    {
     "data": {
      "text/plain": [
       "24"
      ]
     },
     "execution_count": 53,
     "metadata": {},
     "output_type": "execute_result"
    }
   ],
   "source": [
    "rfecv.n_features_"
   ]
  },
  {
   "cell_type": "code",
   "execution_count": 55,
   "metadata": {
    "collapsed": false
   },
   "outputs": [
    {
     "data": {
      "text/plain": [
       "Index(['hr_std', 'rr_std', 'sbp_max', 'sbp_avg', 'sbp_std', 'sbp_25', 'sbp_75',\n",
       "       'dbp_min', 'dbp_std', 'dbp_75', 'si_max', 'si_min', 'spo2_std',\n",
       "       'tem_min', 'tem_mid', 'tem_25', 'uo_min', 'uo_25', 'uo_75', 'uosum',\n",
       "       'age', 'lostime', 'inputsum', 'type_0'],\n",
       "      dtype='object')"
      ]
     },
     "execution_count": 55,
     "metadata": {},
     "output_type": "execute_result"
    }
   ],
   "source": [
    "keys = datamat.keys()\n",
    "keys[rfecv.support_]"
   ]
  },
  {
   "cell_type": "code",
   "execution_count": 90,
   "metadata": {
    "collapsed": false
   },
   "outputs": [
    {
     "data": {
      "text/plain": [
       "SelectKBest(k=5, score_func=<function chi2 at 0x0000023523C95620>)"
      ]
     },
     "execution_count": 90,
     "metadata": {},
     "output_type": "execute_result"
    }
   ],
   "source": [
    "from sklearn.feature_selection import SelectKBest,mutual_info_classif, chi2\n",
    "slf = SelectKBest(chi2,k=5)\n",
    "slf.fit(datamat,labelmat)"
   ]
  },
  {
   "cell_type": "code",
   "execution_count": 89,
   "metadata": {
    "collapsed": false
   },
   "outputs": [
    {
     "data": {
      "text/plain": [
       "SelectKBest(k=5, score_func=<function chi2 at 0x0000023523C95620>)"
      ]
     },
     "execution_count": 89,
     "metadata": {},
     "output_type": "execute_result"
    }
   ],
   "source": [
    "slf.fit(datamat,labelmat)"
   ]
  },
  {
   "cell_type": "code",
   "execution_count": null,
   "metadata": {
    "collapsed": true
   },
   "outputs": [],
   "source": []
  }
 ],
 "metadata": {
  "kernelspec": {
   "display_name": "Python 3",
   "language": "python",
   "name": "python3"
  },
  "language_info": {
   "codemirror_mode": {
    "name": "ipython",
    "version": 3
   },
   "file_extension": ".py",
   "mimetype": "text/x-python",
   "name": "python",
   "nbconvert_exporter": "python",
   "pygments_lexer": "ipython3",
   "version": "3.6.7"
  }
 },
 "nbformat": 4,
 "nbformat_minor": 2
}
