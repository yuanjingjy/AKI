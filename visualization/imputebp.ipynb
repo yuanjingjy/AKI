{
 "cells": [
  {
   "cell_type": "markdown",
   "metadata": {
    "collapsed": true
   },
   "source": [
    "# 血压数据"
   ]
  },
  {
   "cell_type": "code",
   "execution_count": 12,
   "metadata": {
    "collapsed": true
   },
   "outputs": [],
   "source": [
    "import pandas as pd\n",
    "import seaborn as sn\n",
    "import matplotlib.pyplot as plt\n",
    "from sklearn.ensemble import RandomForestRegressor\n",
    "from sklearn.linear_model import Lasso\n",
    "from sklearn.svm import SVR\n",
    "from sklearn.metrics import r2_score\n",
    "import numpy as np\n",
    "from sklearn.pipeline import Pipeline\n",
    "from sklearn.preprocessing import OneHotEncoder\n",
    "from sklearn.impute import SimpleImputer"
   ]
  },
  {
   "cell_type": "markdown",
   "metadata": {},
   "source": [
    "### 读取diasbp数据"
   ]
  },
  {
   "cell_type": "code",
   "execution_count": 13,
   "metadata": {
    "collapsed": false
   },
   "outputs": [
    {
     "data": {
      "text/html": [
       "<div>\n",
       "<table border=\"1\" class=\"dataframe\">\n",
       "  <thead>\n",
       "    <tr style=\"text-align: right;\">\n",
       "      <th></th>\n",
       "      <th>icustay_id</th>\n",
       "      <th>starttime</th>\n",
       "      <th>charttime</th>\n",
       "      <th>diasbp</th>\n",
       "      <th>ni_dbp</th>\n",
       "      <th>dbp_com</th>\n",
       "      <th>age</th>\n",
       "      <th>gender</th>\n",
       "      <th>admission_type</th>\n",
       "    </tr>\n",
       "  </thead>\n",
       "  <tbody>\n",
       "    <tr>\n",
       "      <th>0</th>\n",
       "      <td>200003</td>\n",
       "      <td>2199-08-09 04:20:00</td>\n",
       "      <td>2199-08-08 05:00:00</td>\n",
       "      <td>58.0</td>\n",
       "      <td>NaN</td>\n",
       "      <td>58.0</td>\n",
       "      <td>48.296</td>\n",
       "      <td>M</td>\n",
       "      <td>EMERGENCY</td>\n",
       "    </tr>\n",
       "    <tr>\n",
       "      <th>1</th>\n",
       "      <td>200003</td>\n",
       "      <td>2199-08-09 04:20:00</td>\n",
       "      <td>2199-08-08 06:00:00</td>\n",
       "      <td>61.0</td>\n",
       "      <td>NaN</td>\n",
       "      <td>61.0</td>\n",
       "      <td>48.296</td>\n",
       "      <td>M</td>\n",
       "      <td>EMERGENCY</td>\n",
       "    </tr>\n",
       "    <tr>\n",
       "      <th>2</th>\n",
       "      <td>200003</td>\n",
       "      <td>2199-08-09 04:20:00</td>\n",
       "      <td>2199-08-08 07:00:00</td>\n",
       "      <td>57.0</td>\n",
       "      <td>NaN</td>\n",
       "      <td>57.0</td>\n",
       "      <td>48.296</td>\n",
       "      <td>M</td>\n",
       "      <td>EMERGENCY</td>\n",
       "    </tr>\n",
       "    <tr>\n",
       "      <th>3</th>\n",
       "      <td>200003</td>\n",
       "      <td>2199-08-09 04:20:00</td>\n",
       "      <td>2199-08-08 08:00:00</td>\n",
       "      <td>59.0</td>\n",
       "      <td>NaN</td>\n",
       "      <td>59.0</td>\n",
       "      <td>48.296</td>\n",
       "      <td>M</td>\n",
       "      <td>EMERGENCY</td>\n",
       "    </tr>\n",
       "    <tr>\n",
       "      <th>4</th>\n",
       "      <td>200003</td>\n",
       "      <td>2199-08-09 04:20:00</td>\n",
       "      <td>2199-08-08 09:00:00</td>\n",
       "      <td>61.0</td>\n",
       "      <td>NaN</td>\n",
       "      <td>61.0</td>\n",
       "      <td>48.296</td>\n",
       "      <td>M</td>\n",
       "      <td>EMERGENCY</td>\n",
       "    </tr>\n",
       "  </tbody>\n",
       "</table>\n",
       "</div>"
      ],
      "text/plain": [
       "   icustay_id            starttime            charttime  diasbp  ni_dbp  \\\n",
       "0      200003  2199-08-09 04:20:00  2199-08-08 05:00:00    58.0     NaN   \n",
       "1      200003  2199-08-09 04:20:00  2199-08-08 06:00:00    61.0     NaN   \n",
       "2      200003  2199-08-09 04:20:00  2199-08-08 07:00:00    57.0     NaN   \n",
       "3      200003  2199-08-09 04:20:00  2199-08-08 08:00:00    59.0     NaN   \n",
       "4      200003  2199-08-09 04:20:00  2199-08-08 09:00:00    61.0     NaN   \n",
       "\n",
       "   dbp_com     age gender admission_type  \n",
       "0     58.0  48.296      M      EMERGENCY  \n",
       "1     61.0  48.296      M      EMERGENCY  \n",
       "2     57.0  48.296      M      EMERGENCY  \n",
       "3     59.0  48.296      M      EMERGENCY  \n",
       "4     61.0  48.296      M      EMERGENCY  "
      ]
     },
     "execution_count": 13,
     "metadata": {},
     "output_type": "execute_result"
    }
   ],
   "source": [
    "data_dias = pd.read_csv('M:/AKIdata/diasbp.csv')\n",
    "data_dias.head()"
   ]
  },
  {
   "cell_type": "markdown",
   "metadata": {},
   "source": [
    "### 处理年龄"
   ]
  },
  {
   "cell_type": "code",
   "execution_count": 14,
   "metadata": {
    "collapsed": true
   },
   "outputs": [],
   "source": [
    "for i in range(len(data_dias)):\n",
    "    if data_dias.loc[i,'age']>200:\n",
    "        data_dias.loc[i,'age']=91.4"
   ]
  },
  {
   "cell_type": "markdown",
   "metadata": {},
   "source": [
    "### 处理哑变量"
   ]
  },
  {
   "cell_type": "code",
   "execution_count": 15,
   "metadata": {
    "collapsed": true
   },
   "outputs": [],
   "source": [
    "diasbp = data_dias[['diasbp','ni_dbp','age','gender','admission_type']]\n",
    "dummy_feature_dias = diasbp[['gender','admission_type']]\n",
    "dummies_dias = pd.get_dummies(dummy_feature_dias,prefix=['sex','type'])\n",
    "diasbp = diasbp.drop(['gender', 'admission_type'], axis=1)\n",
    "datawithdummy_dias = dummies_dias.join(diasbp)"
   ]
  },
  {
   "cell_type": "markdown",
   "metadata": {},
   "source": [
    "### 提取完整数据集"
   ]
  },
  {
   "cell_type": "code",
   "execution_count": 16,
   "metadata": {
    "collapsed": true
   },
   "outputs": [],
   "source": [
    "data_complete_dias = datawithdummy_dias.dropna()"
   ]
  },
  {
   "cell_type": "markdown",
   "metadata": {},
   "source": [
    "### 统计分析"
   ]
  },
  {
   "cell_type": "code",
   "execution_count": 17,
   "metadata": {
    "collapsed": false
   },
   "outputs": [
    {
     "data": {
      "image/png": "[encoded data removed]",
      "text/plain": [
       "<matplotlib.figure.Figure at 0x1d10e5c23c8>"
      ]
     },
     "metadata": {},
     "output_type": "display_data"
    },
    {
     "name": "stdout",
     "output_type": "stream",
     "text": [
      "             diasbp        ni_dbp           age\n",
      "count  19855.000000  19855.000000  19855.000000\n",
      "mean      60.988794     56.129741     65.616469\n",
      "std       16.968310     14.931506     16.031322\n",
      "min        3.000000     10.000000     18.139100\n",
      "25%       50.000000     46.000000     54.786800\n",
      "50%       58.000000     54.000000     68.198700\n",
      "75%       69.000000     65.000000     77.957800\n",
      "max      281.000000    142.000000     91.400000\n"
     ]
    }
   ],
   "source": [
    "coef = data_complete_dias.corr()\n",
    "plt.subplots(figsize=(6, 6))\n",
    "sn.heatmap(coef, annot=True, cmap=\"Blues\")\n",
    "plt.show()\n",
    "print(data_complete_dias[['diasbp','ni_dbp','age']].describe())"
   ]
  },
  {
   "cell_type": "markdown",
   "metadata": {},
   "source": [
    "### 构建插值模型"
   ]
  },
  {
   "cell_type": "code",
   "execution_count": 20,
   "metadata": {
    "collapsed": false
   },
   "outputs": [],
   "source": [
    "from sklearn.ensemble import RandomForestRegressor\n",
    "\n",
    "colnames = ['sex_F','sex_M','type_EMERGENCY','type_ELECTIVE','type_URGENT','diasbp','age']\n",
    "x_dias = data_complete_dias[colnames]\n",
    "y_dias = data_complete_dias['ni_dbp']\n",
    "\n",
    "rf_dias = RandomForestRegressor(n_estimators=1000, n_jobs=-1)\n",
    "rf_dias.fit(x_dias,y_dias)\n",
    "R2_rf_dias = rf_dias.score(x_dias,y_dias)"
   ]
  },
  {
   "cell_type": "code",
   "execution_count": 21,
   "metadata": {
    "collapsed": false
   },
   "outputs": [
    {
     "data": {
      "text/plain": [
       "0.8762452179521003"
      ]
     },
     "execution_count": 21,
     "metadata": {},
     "output_type": "execute_result"
    }
   ],
   "source": [
    "R2_rf_dias"
   ]
  },
  {
   "cell_type": "markdown",
   "metadata": {},
   "source": [
    "### 插值"
   ]
  },
  {
   "cell_type": "code",
   "execution_count": 12,
   "metadata": {
    "collapsed": false
   },
   "outputs": [
    {
     "name": "stderr",
     "output_type": "stream",
     "text": [
      "D:\\ProgramData\\Anaconda3\\lib\\site-packages\\pandas\\core\\indexing.py:141: SettingWithCopyWarning: \n",
      "A value is trying to be set on a copy of a slice from a DataFrame\n",
      "\n",
      "See the caveats in the documentation: http://pandas.pydata.org/pandas-docs/stable/indexing.html#indexing-view-versus-copy\n",
      "  self._setitem_with_indexer(indexer, value)\n"
     ]
    }
   ],
   "source": [
    "x_dias = datawithdummy_dias[colnames].loc[datawithdummy_dias['ni_dbp'].isnull()]\n",
    "datawithdummy_dias['ni_dbp'].loc[datawithdummy_dias['ni_dbp'].isnull()]=rf_dias.predict(x_dias)\n",
    "data_dias['ni_dbp'] = datawithdummy_dias['ni_dbp']\n",
    "data_dias.to_csv('M:/AKIdata/nidbp_full.csv')"
   ]
  },
  {
   "cell_type": "code",
   "execution_count": 13,
   "metadata": {
    "collapsed": false
   },
   "outputs": [
    {
     "name": "stdout",
     "output_type": "stream",
     "text": [
      "<class 'pandas.core.frame.DataFrame'>\n",
      "RangeIndex: 283319 entries, 0 to 283318\n",
      "Data columns (total 9 columns):\n",
      "icustay_id        283319 non-null int64\n",
      "starttime         283319 non-null object\n",
      "charttime         283319 non-null object\n",
      "diasbp            177957 non-null float64\n",
      "ni_dbp            283319 non-null float64\n",
      "dbp_com           283319 non-null float64\n",
      "age               283319 non-null float64\n",
      "gender            283319 non-null object\n",
      "admission_type    283319 non-null object\n",
      "dtypes: float64(4), int64(1), object(4)\n",
      "memory usage: 19.5+ MB\n"
     ]
    }
   ],
   "source": [
    "data_dias.info()"
   ]
  },
  {
   "cell_type": "markdown",
   "metadata": {},
   "source": [
    "## 处理收缩压"
   ]
  },
  {
   "cell_type": "code",
   "execution_count": 33,
   "metadata": {
    "collapsed": false
   },
   "outputs": [
    {
     "data": {
      "text/html": [
       "<div>\n",
       "<table border=\"1\" class=\"dataframe\">\n",
       "  <thead>\n",
       "    <tr style=\"text-align: right;\">\n",
       "      <th></th>\n",
       "      <th>icustay_id</th>\n",
       "      <th>starttime</th>\n",
       "      <th>charttime</th>\n",
       "      <th>sysbp</th>\n",
       "      <th>ni_sbp</th>\n",
       "      <th>sbp_com</th>\n",
       "      <th>age</th>\n",
       "      <th>gender</th>\n",
       "      <th>admission_type</th>\n",
       "    </tr>\n",
       "  </thead>\n",
       "  <tbody>\n",
       "    <tr>\n",
       "      <th>0</th>\n",
       "      <td>200003</td>\n",
       "      <td>2199-08-09 04:20:00</td>\n",
       "      <td>2199-08-08 05:00:00</td>\n",
       "      <td>113.0</td>\n",
       "      <td>NaN</td>\n",
       "      <td>113.0</td>\n",
       "      <td>48.296</td>\n",
       "      <td>M</td>\n",
       "      <td>EMERGENCY</td>\n",
       "    </tr>\n",
       "    <tr>\n",
       "      <th>1</th>\n",
       "      <td>200003</td>\n",
       "      <td>2199-08-09 04:20:00</td>\n",
       "      <td>2199-08-08 06:00:00</td>\n",
       "      <td>122.0</td>\n",
       "      <td>NaN</td>\n",
       "      <td>122.0</td>\n",
       "      <td>48.296</td>\n",
       "      <td>M</td>\n",
       "      <td>EMERGENCY</td>\n",
       "    </tr>\n",
       "    <tr>\n",
       "      <th>2</th>\n",
       "      <td>200003</td>\n",
       "      <td>2199-08-09 04:20:00</td>\n",
       "      <td>2199-08-08 07:00:00</td>\n",
       "      <td>112.0</td>\n",
       "      <td>NaN</td>\n",
       "      <td>112.0</td>\n",
       "      <td>48.296</td>\n",
       "      <td>M</td>\n",
       "      <td>EMERGENCY</td>\n",
       "    </tr>\n",
       "    <tr>\n",
       "      <th>3</th>\n",
       "      <td>200003</td>\n",
       "      <td>2199-08-09 04:20:00</td>\n",
       "      <td>2199-08-08 08:00:00</td>\n",
       "      <td>115.0</td>\n",
       "      <td>NaN</td>\n",
       "      <td>115.0</td>\n",
       "      <td>48.296</td>\n",
       "      <td>M</td>\n",
       "      <td>EMERGENCY</td>\n",
       "    </tr>\n",
       "    <tr>\n",
       "      <th>4</th>\n",
       "      <td>200003</td>\n",
       "      <td>2199-08-09 04:20:00</td>\n",
       "      <td>2199-08-08 09:00:00</td>\n",
       "      <td>120.0</td>\n",
       "      <td>NaN</td>\n",
       "      <td>120.0</td>\n",
       "      <td>48.296</td>\n",
       "      <td>M</td>\n",
       "      <td>EMERGENCY</td>\n",
       "    </tr>\n",
       "  </tbody>\n",
       "</table>\n",
       "</div>"
      ],
      "text/plain": [
       "   icustay_id            starttime            charttime  sysbp  ni_sbp  \\\n",
       "0      200003  2199-08-09 04:20:00  2199-08-08 05:00:00  113.0     NaN   \n",
       "1      200003  2199-08-09 04:20:00  2199-08-08 06:00:00  122.0     NaN   \n",
       "2      200003  2199-08-09 04:20:00  2199-08-08 07:00:00  112.0     NaN   \n",
       "3      200003  2199-08-09 04:20:00  2199-08-08 08:00:00  115.0     NaN   \n",
       "4      200003  2199-08-09 04:20:00  2199-08-08 09:00:00  120.0     NaN   \n",
       "\n",
       "   sbp_com     age gender admission_type  \n",
       "0    113.0  48.296      M      EMERGENCY  \n",
       "1    122.0  48.296      M      EMERGENCY  \n",
       "2    112.0  48.296      M      EMERGENCY  \n",
       "3    115.0  48.296      M      EMERGENCY  \n",
       "4    120.0  48.296      M      EMERGENCY  "
      ]
     },
     "execution_count": 33,
     "metadata": {},
     "output_type": "execute_result"
    }
   ],
   "source": [
    "data_sys =  pd.read_csv('M:/AKIdata/sysbp.csv')\n",
    "data_sys.head()"
   ]
  },
  {
   "cell_type": "markdown",
   "metadata": {},
   "source": [
    "### 处理年龄"
   ]
  },
  {
   "cell_type": "code",
   "execution_count": 34,
   "metadata": {
    "collapsed": true
   },
   "outputs": [],
   "source": [
    "for i in range(len(data_sys)):\n",
    "    if data_sys.loc[i,'age']>200:\n",
    "        data_sys.loc[i,'age']=91.4"
   ]
  },
  {
   "cell_type": "markdown",
   "metadata": {},
   "source": [
    "### 处理哑变量"
   ]
  },
  {
   "cell_type": "code",
   "execution_count": 36,
   "metadata": {
    "collapsed": true
   },
   "outputs": [],
   "source": [
    "sysbp = data_sys[['sysbp', 'ni_sbp', 'age', 'gender', 'admission_type']]\n",
    "dummy_feature_sys = sysbp[['gender','admission_type']]\n",
    "dummies_sys = pd.get_dummies(dummy_feature_sys,prefix=['sex','type'])\n",
    "sysbp = sysbp.drop(['gender', 'admission_type'], axis=1)\n",
    "datawithdummy_sys = dummies_sys.join(sysbp)"
   ]
  },
  {
   "cell_type": "markdown",
   "metadata": {},
   "source": [
    "### 提取完整数据集"
   ]
  },
  {
   "cell_type": "code",
   "execution_count": 39,
   "metadata": {
    "collapsed": true
   },
   "outputs": [],
   "source": [
    "data_complete_sys = datawithdummy_sys.dropna()"
   ]
  },
  {
   "cell_type": "markdown",
   "metadata": {},
   "source": [
    "### 统计分析"
   ]
  },
  {
   "cell_type": "code",
   "execution_count": 40,
   "metadata": {
    "collapsed": false
   },
   "outputs": [
    {
     "data": {
      "image/png": "[encoded data removed]",
      "text/plain": [
       "<matplotlib.figure.Figure at 0x2a80ee76160>"
      ]
     },
     "metadata": {},
     "output_type": "display_data"
    },
    {
     "name": "stdout",
     "output_type": "stream",
     "text": [
      "              sysbp        ni_sbp           age\n",
      "count  19883.000000  19883.000000  19883.000000\n",
      "mean     116.500855    116.106385     65.616151\n",
      "std       30.125678     23.472609     16.030569\n",
      "min        2.000000      0.750000     18.139100\n",
      "25%       95.000000     99.000000     54.786800\n",
      "50%      111.000000    112.000000     68.198700\n",
      "75%      134.000000    130.000000     77.957800\n",
      "max      285.000000    232.000000     91.400000\n"
     ]
    }
   ],
   "source": [
    "coef_sys = data_complete_sys.corr()\n",
    "plt.subplots(figsize=(6, 6))\n",
    "sn.heatmap(coef_sys, annot=True, cmap=\"Blues\")\n",
    "plt.show()\n",
    "print(data_complete_sys[['sysbp','ni_sbp','age']].describe())"
   ]
  },
  {
   "cell_type": "markdown",
   "metadata": {},
   "source": [
    "### 插值模型"
   ]
  },
  {
   "cell_type": "code",
   "execution_count": 41,
   "metadata": {
    "collapsed": false
   },
   "outputs": [],
   "source": [
    "from sklearn.ensemble import RandomForestRegressor\n",
    "from sklearn.linear_model import Lasso\n",
    "from sklearn.svm import SVR\n",
    "\n",
    "colnames = ['sex_F','sex_M','type_EMERGENCY','type_ELECTIVE','type_URGENT','sysbp','age']\n",
    "x_sys = data_complete_sys[colnames]\n",
    "y_sys = data_complete_sys['ni_sbp']\n",
    "\n",
    "rf_sys = RandomForestRegressor(n_estimators=1000, n_jobs=-1)\n",
    "rf_sys.fit(x_sys,y_sys)\n",
    "R2_rf_sys = rf_sys.score(x_sys,y_sys)\n"
   ]
  },
  {
   "cell_type": "code",
   "execution_count": 42,
   "metadata": {
    "collapsed": false
   },
   "outputs": [
    {
     "data": {
      "text/plain": [
       "0.9229806000632818"
      ]
     },
     "execution_count": 42,
     "metadata": {},
     "output_type": "execute_result"
    }
   ],
   "source": [
    "R2_rf_sys"
   ]
  },
  {
   "cell_type": "code",
   "execution_count": 44,
   "metadata": {
    "collapsed": false
   },
   "outputs": [
    {
     "name": "stderr",
     "output_type": "stream",
     "text": [
      "D:\\ProgramData\\Anaconda3\\lib\\site-packages\\pandas\\core\\indexing.py:141: SettingWithCopyWarning: \n",
      "A value is trying to be set on a copy of a slice from a DataFrame\n",
      "\n",
      "See the caveats in the documentation: http://pandas.pydata.org/pandas-docs/stable/indexing.html#indexing-view-versus-copy\n",
      "  self._setitem_with_indexer(indexer, value)\n"
     ]
    }
   ],
   "source": [
    "x_sys = datawithdummy_sys[colnames].loc[datawithdummy_sys['ni_sbp'].isnull()]\n",
    "datawithdummy_sys['ni_sbp'].loc[datawithdummy_sys['ni_sbp'].isnull()]=rf_sys.predict(x_sys)\n",
    "data_sys['ni_sbp'] = datawithdummy_sys['ni_sbp']\n",
    "data_sys.to_csv('M:/AKIdata/nisbp_full.csv')"
   ]
  },
  {
   "cell_type": "code",
   "execution_count": 43,
   "metadata": {
    "collapsed": false
   },
   "outputs": [
    {
     "name": "stdout",
     "output_type": "stream",
     "text": [
      "<class 'pandas.core.frame.DataFrame'>\n",
      "RangeIndex: 283403 entries, 0 to 283402\n",
      "Data columns (total 8 columns):\n",
      "sex_F             283403 non-null uint8\n",
      "sex_M             283403 non-null uint8\n",
      "type_ELECTIVE     283403 non-null uint8\n",
      "type_EMERGENCY    283403 non-null uint8\n",
      "type_URGENT       283403 non-null uint8\n",
      "sysbp             177999 non-null float64\n",
      "ni_sbp            125287 non-null float64\n",
      "age               283403 non-null float64\n",
      "dtypes: float64(3), uint8(5)\n",
      "memory usage: 7.8 MB\n"
     ]
    }
   ],
   "source": [
    "datawithdummy_sys.info()"
   ]
  },
  {
   "cell_type": "code",
   "execution_count": 45,
   "metadata": {
    "collapsed": false
   },
   "outputs": [
    {
     "data": {
      "text/html": [
       "<div>\n",
       "<table border=\"1\" class=\"dataframe\">\n",
       "  <thead>\n",
       "    <tr style=\"text-align: right;\">\n",
       "      <th></th>\n",
       "      <th>icustay_id</th>\n",
       "      <th>sysbp</th>\n",
       "      <th>ni_sbp</th>\n",
       "      <th>sbp_com</th>\n",
       "      <th>age</th>\n",
       "    </tr>\n",
       "  </thead>\n",
       "  <tbody>\n",
       "    <tr>\n",
       "      <th>count</th>\n",
       "      <td>283403.000000</td>\n",
       "      <td>177999.000000</td>\n",
       "      <td>283403.000000</td>\n",
       "      <td>283403.000000</td>\n",
       "      <td>283403.000000</td>\n",
       "    </tr>\n",
       "    <tr>\n",
       "      <th>mean</th>\n",
       "      <td>250555.786008</td>\n",
       "      <td>121.046534</td>\n",
       "      <td>119.041545</td>\n",
       "      <td>120.803464</td>\n",
       "      <td>65.713306</td>\n",
       "    </tr>\n",
       "    <tr>\n",
       "      <th>std</th>\n",
       "      <td>28840.044431</td>\n",
       "      <td>25.099840</td>\n",
       "      <td>19.569591</td>\n",
       "      <td>23.679678</td>\n",
       "      <td>16.737118</td>\n",
       "    </tr>\n",
       "    <tr>\n",
       "      <th>min</th>\n",
       "      <td>200003.000000</td>\n",
       "      <td>1.000000</td>\n",
       "      <td>0.750000</td>\n",
       "      <td>1.000000</td>\n",
       "      <td>18.022100</td>\n",
       "    </tr>\n",
       "    <tr>\n",
       "      <th>25%</th>\n",
       "      <td>225825.000000</td>\n",
       "      <td>103.000000</td>\n",
       "      <td>105.000000</td>\n",
       "      <td>103.000000</td>\n",
       "      <td>55.250300</td>\n",
       "    </tr>\n",
       "    <tr>\n",
       "      <th>50%</th>\n",
       "      <td>250649.000000</td>\n",
       "      <td>118.000000</td>\n",
       "      <td>116.817082</td>\n",
       "      <td>118.000000</td>\n",
       "      <td>68.164800</td>\n",
       "    </tr>\n",
       "    <tr>\n",
       "      <th>75%</th>\n",
       "      <td>275499.000000</td>\n",
       "      <td>137.000000</td>\n",
       "      <td>131.000000</td>\n",
       "      <td>136.000000</td>\n",
       "      <td>78.780900</td>\n",
       "    </tr>\n",
       "    <tr>\n",
       "      <th>max</th>\n",
       "      <td>299995.000000</td>\n",
       "      <td>323.000000</td>\n",
       "      <td>252.000000</td>\n",
       "      <td>323.000000</td>\n",
       "      <td>91.400000</td>\n",
       "    </tr>\n",
       "  </tbody>\n",
       "</table>\n",
       "</div>"
      ],
      "text/plain": [
       "          icustay_id          sysbp         ni_sbp        sbp_com  \\\n",
       "count  283403.000000  177999.000000  283403.000000  283403.000000   \n",
       "mean   250555.786008     121.046534     119.041545     120.803464   \n",
       "std     28840.044431      25.099840      19.569591      23.679678   \n",
       "min    200003.000000       1.000000       0.750000       1.000000   \n",
       "25%    225825.000000     103.000000     105.000000     103.000000   \n",
       "50%    250649.000000     118.000000     116.817082     118.000000   \n",
       "75%    275499.000000     137.000000     131.000000     136.000000   \n",
       "max    299995.000000     323.000000     252.000000     323.000000   \n",
       "\n",
       "                 age  \n",
       "count  283403.000000  \n",
       "mean       65.713306  \n",
       "std        16.737118  \n",
       "min        18.022100  \n",
       "25%        55.250300  \n",
       "50%        68.164800  \n",
       "75%        78.780900  \n",
       "max        91.400000  "
      ]
     },
     "execution_count": 45,
     "metadata": {},
     "output_type": "execute_result"
    }
   ],
   "source": [
    "data_sys.describe()"
   ]
  },
  {
   "cell_type": "markdown",
   "metadata": {
    "collapsed": true
   },
   "source": [
    "## 处理平均压"
   ]
  },
  {
   "cell_type": "code",
   "execution_count": 2,
   "metadata": {
    "collapsed": false
   },
   "outputs": [
    {
     "data": {
      "text/html": [
       "<div>\n",
       "<table border=\"1\" class=\"dataframe\">\n",
       "  <thead>\n",
       "    <tr style=\"text-align: right;\">\n",
       "      <th></th>\n",
       "      <th>icustay_id</th>\n",
       "      <th>starttime</th>\n",
       "      <th>charttime</th>\n",
       "      <th>meanbp</th>\n",
       "      <th>ni_mbp</th>\n",
       "      <th>mbp_com</th>\n",
       "      <th>age</th>\n",
       "      <th>gender</th>\n",
       "      <th>admission_type</th>\n",
       "    </tr>\n",
       "  </thead>\n",
       "  <tbody>\n",
       "    <tr>\n",
       "      <th>0</th>\n",
       "      <td>200003</td>\n",
       "      <td>2199-08-09 04:20:00</td>\n",
       "      <td>2199-08-08 05:00:00</td>\n",
       "      <td>78.0</td>\n",
       "      <td>NaN</td>\n",
       "      <td>78.0</td>\n",
       "      <td>48.296</td>\n",
       "      <td>M</td>\n",
       "      <td>EMERGENCY</td>\n",
       "    </tr>\n",
       "    <tr>\n",
       "      <th>1</th>\n",
       "      <td>200003</td>\n",
       "      <td>2199-08-09 04:20:00</td>\n",
       "      <td>2199-08-08 06:00:00</td>\n",
       "      <td>82.0</td>\n",
       "      <td>NaN</td>\n",
       "      <td>82.0</td>\n",
       "      <td>48.296</td>\n",
       "      <td>M</td>\n",
       "      <td>EMERGENCY</td>\n",
       "    </tr>\n",
       "    <tr>\n",
       "      <th>2</th>\n",
       "      <td>200003</td>\n",
       "      <td>2199-08-09 04:20:00</td>\n",
       "      <td>2199-08-08 07:00:00</td>\n",
       "      <td>76.0</td>\n",
       "      <td>NaN</td>\n",
       "      <td>76.0</td>\n",
       "      <td>48.296</td>\n",
       "      <td>M</td>\n",
       "      <td>EMERGENCY</td>\n",
       "    </tr>\n",
       "    <tr>\n",
       "      <th>3</th>\n",
       "      <td>200003</td>\n",
       "      <td>2199-08-09 04:20:00</td>\n",
       "      <td>2199-08-08 08:00:00</td>\n",
       "      <td>79.0</td>\n",
       "      <td>NaN</td>\n",
       "      <td>79.0</td>\n",
       "      <td>48.296</td>\n",
       "      <td>M</td>\n",
       "      <td>EMERGENCY</td>\n",
       "    </tr>\n",
       "    <tr>\n",
       "      <th>4</th>\n",
       "      <td>200003</td>\n",
       "      <td>2199-08-09 04:20:00</td>\n",
       "      <td>2199-08-08 09:00:00</td>\n",
       "      <td>81.0</td>\n",
       "      <td>NaN</td>\n",
       "      <td>81.0</td>\n",
       "      <td>48.296</td>\n",
       "      <td>M</td>\n",
       "      <td>EMERGENCY</td>\n",
       "    </tr>\n",
       "  </tbody>\n",
       "</table>\n",
       "</div>"
      ],
      "text/plain": [
       "   icustay_id            starttime            charttime  meanbp  ni_mbp  \\\n",
       "0      200003  2199-08-09 04:20:00  2199-08-08 05:00:00    78.0     NaN   \n",
       "1      200003  2199-08-09 04:20:00  2199-08-08 06:00:00    82.0     NaN   \n",
       "2      200003  2199-08-09 04:20:00  2199-08-08 07:00:00    76.0     NaN   \n",
       "3      200003  2199-08-09 04:20:00  2199-08-08 08:00:00    79.0     NaN   \n",
       "4      200003  2199-08-09 04:20:00  2199-08-08 09:00:00    81.0     NaN   \n",
       "\n",
       "   mbp_com     age gender admission_type  \n",
       "0     78.0  48.296      M      EMERGENCY  \n",
       "1     82.0  48.296      M      EMERGENCY  \n",
       "2     76.0  48.296      M      EMERGENCY  \n",
       "3     79.0  48.296      M      EMERGENCY  \n",
       "4     81.0  48.296      M      EMERGENCY  "
      ]
     },
     "execution_count": 2,
     "metadata": {},
     "output_type": "execute_result"
    }
   ],
   "source": [
    "data_mean =  pd.read_csv('M:/AKIdata/meanbp.csv')\n",
    "data_mean.head()"
   ]
  },
  {
   "cell_type": "markdown",
   "metadata": {},
   "source": [
    "## 处理年龄"
   ]
  },
  {
   "cell_type": "code",
   "execution_count": 3,
   "metadata": {
    "collapsed": false
   },
   "outputs": [],
   "source": [
    "for i in range(len(data_mean)):\n",
    "    if data_mean.loc[i,'age']>200:\n",
    "        data_mean.loc[i,'age']=91.4"
   ]
  },
  {
   "cell_type": "markdown",
   "metadata": {
    "collapsed": true
   },
   "source": [
    "### 处理哑变量"
   ]
  },
  {
   "cell_type": "code",
   "execution_count": 4,
   "metadata": {
    "collapsed": true
   },
   "outputs": [],
   "source": [
    "meanbp = data_mean[['meanbp', 'ni_mbp', 'age', 'gender', 'admission_type']]\n",
    "dummy_feature_mean = meanbp[['gender','admission_type']]\n",
    "dummies_mean = pd.get_dummies(dummy_feature_mean,prefix=['sex','type'])\n",
    "meanbp = meanbp.drop(['gender', 'admission_type'], axis=1)\n",
    "datawithdummy_mean = dummies_mean.join(meanbp)"
   ]
  },
  {
   "cell_type": "markdown",
   "metadata": {},
   "source": [
    "### 提取完整数据集"
   ]
  },
  {
   "cell_type": "code",
   "execution_count": 7,
   "metadata": {
    "collapsed": true
   },
   "outputs": [],
   "source": [
    "data_complete_mean = datawithdummy_mean.dropna()"
   ]
  },
  {
   "cell_type": "markdown",
   "metadata": {},
   "source": [
    "### 统计分析"
   ]
  },
  {
   "cell_type": "code",
   "execution_count": 8,
   "metadata": {
    "collapsed": false
   },
   "outputs": [
    {
     "data": {
      "image/png": "[encoded data removed]",
      "text/plain": [
       "<matplotlib.figure.Figure at 0x1d0a04ccac8>"
      ]
     },
     "metadata": {},
     "output_type": "display_data"
    },
    {
     "name": "stdout",
     "output_type": "stream",
     "text": [
      "             meanbp        ni_mbp           age\n",
      "count  20637.000000  20637.000000  20637.000000\n",
      "mean      80.275234     73.931943     65.549776\n",
      "std       23.592862     15.700091     16.112215\n",
      "min        1.000000     18.666700     18.139100\n",
      "25%       65.000000     63.000000     54.786800\n",
      "50%       76.000000     71.000000     68.020200\n",
      "75%       90.000000     82.666702     78.022200\n",
      "max      294.000000    158.000000     91.400000\n"
     ]
    }
   ],
   "source": [
    "coef_mean = data_complete_mean.corr()\n",
    "plt.subplots(figsize=(6, 6))\n",
    "sn.heatmap(coef_mean, annot=True, cmap=\"Blues\")\n",
    "plt.show()\n",
    "print(data_complete_mean[['meanbp','ni_mbp','age']].describe())"
   ]
  },
  {
   "cell_type": "markdown",
   "metadata": {},
   "source": [
    "### 插值模型"
   ]
  },
  {
   "cell_type": "code",
   "execution_count": 25,
   "metadata": {
    "collapsed": true
   },
   "outputs": [],
   "source": [
    "from sklearn.ensemble import RandomForestRegressor\n",
    "from sklearn.linear_model import Lasso\n",
    "from sklearn.svm import SVR\n",
    "\n",
    "colnames = ['sex_F','sex_M','type_EMERGENCY','type_ELECTIVE','type_URGENT','meanbp','age']\n",
    "x_mean = data_complete_mean[colnames]\n",
    "y_mean = data_complete_mean['ni_mbp']\n",
    "\n",
    "rf_mean = RandomForestRegressor(n_estimators=1000, n_jobs=-1)\n",
    "rf_mean.fit(x_mean,y_mean)\n",
    "R2_rf_mean = rf_mean.score(x_mean,y_mean)"
   ]
  },
  {
   "cell_type": "code",
   "execution_count": 26,
   "metadata": {
    "collapsed": false
   },
   "outputs": [
    {
     "data": {
      "text/plain": [
       "0.9062694181791333"
      ]
     },
     "execution_count": 26,
     "metadata": {},
     "output_type": "execute_result"
    }
   ],
   "source": [
    "R2_rf_mean"
   ]
  },
  {
   "cell_type": "code",
   "execution_count": 27,
   "metadata": {
    "collapsed": false
   },
   "outputs": [
    {
     "name": "stderr",
     "output_type": "stream",
     "text": [
      "D:\\ProgramData\\Anaconda3\\lib\\site-packages\\pandas\\core\\indexing.py:141: SettingWithCopyWarning: \n",
      "A value is trying to be set on a copy of a slice from a DataFrame\n",
      "\n",
      "See the caveats in the documentation: http://pandas.pydata.org/pandas-docs/stable/indexing.html#indexing-view-versus-copy\n",
      "  self._setitem_with_indexer(indexer, value)\n"
     ]
    }
   ],
   "source": [
    "x_mean = datawithdummy_mean[colnames].loc[datawithdummy_mean['ni_mbp'].isnull()]\n",
    "datawithdummy_mean['ni_mbp'].loc[datawithdummy_mean['ni_mbp'].isnull()]=rf_mean.predict(x_mean)\n",
    "data_mean['ni_mbp'] = datawithdummy_mean['ni_mbp']\n",
    "data_mean.to_csv('M:/AKIdata/meanbp_full.csv')"
   ]
  },
  {
   "cell_type": "code",
   "execution_count": 29,
   "metadata": {
    "collapsed": false
   },
   "outputs": [
    {
     "data": {
      "text/html": [
       "<div>\n",
       "<table border=\"1\" class=\"dataframe\">\n",
       "  <thead>\n",
       "    <tr style=\"text-align: right;\">\n",
       "      <th></th>\n",
       "      <th>icustay_id</th>\n",
       "      <th>meanbp</th>\n",
       "      <th>ni_mbp</th>\n",
       "      <th>mbp_com</th>\n",
       "      <th>age</th>\n",
       "    </tr>\n",
       "  </thead>\n",
       "  <tbody>\n",
       "    <tr>\n",
       "      <th>count</th>\n",
       "      <td>284270.000000</td>\n",
       "      <td>180482.000000</td>\n",
       "      <td>284270.000000</td>\n",
       "      <td>284270.000000</td>\n",
       "      <td>284270.000000</td>\n",
       "    </tr>\n",
       "    <tr>\n",
       "      <th>mean</th>\n",
       "      <td>250553.784852</td>\n",
       "      <td>80.527640</td>\n",
       "      <td>75.302410</td>\n",
       "      <td>79.160136</td>\n",
       "      <td>65.739694</td>\n",
       "    </tr>\n",
       "    <tr>\n",
       "      <th>std</th>\n",
       "      <td>28844.095550</td>\n",
       "      <td>18.218732</td>\n",
       "      <td>13.329146</td>\n",
       "      <td>16.769024</td>\n",
       "      <td>16.736440</td>\n",
       "    </tr>\n",
       "    <tr>\n",
       "      <th>min</th>\n",
       "      <td>200003.000000</td>\n",
       "      <td>1.000000</td>\n",
       "      <td>7.000000</td>\n",
       "      <td>1.000000</td>\n",
       "      <td>18.022100</td>\n",
       "    </tr>\n",
       "    <tr>\n",
       "      <th>25%</th>\n",
       "      <td>225825.000000</td>\n",
       "      <td>68.000000</td>\n",
       "      <td>66.000000</td>\n",
       "      <td>68.000000</td>\n",
       "      <td>55.299700</td>\n",
       "    </tr>\n",
       "    <tr>\n",
       "      <th>50%</th>\n",
       "      <td>250580.000000</td>\n",
       "      <td>78.000000</td>\n",
       "      <td>73.611324</td>\n",
       "      <td>77.000000</td>\n",
       "      <td>68.184100</td>\n",
       "    </tr>\n",
       "    <tr>\n",
       "      <th>75%</th>\n",
       "      <td>275535.000000</td>\n",
       "      <td>90.000000</td>\n",
       "      <td>83.000000</td>\n",
       "      <td>88.000000</td>\n",
       "      <td>78.800700</td>\n",
       "    </tr>\n",
       "    <tr>\n",
       "      <th>max</th>\n",
       "      <td>299995.000000</td>\n",
       "      <td>299.000000</td>\n",
       "      <td>217.000000</td>\n",
       "      <td>299.000000</td>\n",
       "      <td>91.400000</td>\n",
       "    </tr>\n",
       "  </tbody>\n",
       "</table>\n",
       "</div>"
      ],
      "text/plain": [
       "          icustay_id         meanbp         ni_mbp        mbp_com  \\\n",
       "count  284270.000000  180482.000000  284270.000000  284270.000000   \n",
       "mean   250553.784852      80.527640      75.302410      79.160136   \n",
       "std     28844.095550      18.218732      13.329146      16.769024   \n",
       "min    200003.000000       1.000000       7.000000       1.000000   \n",
       "25%    225825.000000      68.000000      66.000000      68.000000   \n",
       "50%    250580.000000      78.000000      73.611324      77.000000   \n",
       "75%    275535.000000      90.000000      83.000000      88.000000   \n",
       "max    299995.000000     299.000000     217.000000     299.000000   \n",
       "\n",
       "                 age  \n",
       "count  284270.000000  \n",
       "mean       65.739694  \n",
       "std        16.736440  \n",
       "min        18.022100  \n",
       "25%        55.299700  \n",
       "50%        68.184100  \n",
       "75%        78.800700  \n",
       "max        91.400000  "
      ]
     },
     "execution_count": 29,
     "metadata": {},
     "output_type": "execute_result"
    }
   ],
   "source": [
    "data_mean.describe()"
   ]
  },
  {
   "cell_type": "code",
   "execution_count": null,
   "metadata": {
    "collapsed": true
   },
   "outputs": [],
   "source": []
  }
 ],
 "metadata": {
  "kernelspec": {
   "display_name": "Python 3",
   "language": "python",
   "name": "python3"
  },
  "language_info": {
   "codemirror_mode": {
    "name": "ipython",
    "version": 3
   },
   "file_extension": ".py",
   "mimetype": "text/x-python",
   "name": "python",
   "nbconvert_exporter": "python",
   "pygments_lexer": "ipython3",
   "version": "3.6.7"
  }
 },
 "nbformat": 4,
 "nbformat_minor": 2
}
